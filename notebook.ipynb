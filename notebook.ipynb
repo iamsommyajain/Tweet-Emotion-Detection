{
 "cells": [
  {
   "cell_type": "markdown",
   "metadata": {},
   "source": [
    "1. Loading the libraries"
   ]
  },
  {
   "cell_type": "code",
   "execution_count": 1,
   "metadata": {},
    }
   ],
   "source": [
    "import numpy as np\n",
    "import pandas as pd\n",
    "from sklearn.preprocessing import LabelEncoder\n",
    "import warnings\n",
    "warnings.filterwarnings('ignore')\n",
    "from nltk.corpus import stopwords\n",
    "import nltk\n",
    "#from tensorflow.keras.preprocessing.text import Tokenizer\n",
    "#from tensorflow.keras.preprocessing.sequence import pad_sequences\n",
    "#from tensorflow import keras\n",
    "import seaborn as sns\n",
    "from sklearn.metrics import confusion_matrix\n",
    "import matplotlib.pyplot as plt\n",
    "import ipywidgets as widgets\n",
    "from IPython.display import display"
   ]
  },
  {
   "cell_type": "code",
   "execution_count": 2,
   "metadata": {},
   "outputs": [],
   "source": [
    "emotion_df=pd.read_csv(\"emotion.csv\")"
   ]
  },
  {
   "cell_type": "code",
   "execution_count": 3,
   "metadata": {},
   "outputs": [
    {
     "data": {
      "text/html": [
       "<div>\n",
       "<style scoped>\n",
       "    .dataframe tbody tr th:only-of-type {\n",
       "        vertical-align: middle;\n",
       "    }\n",
       "\n",
       "    .dataframe tbody tr th {\n",
       "        vertical-align: top;\n",
       "    }\n",
       "\n",
       "    .dataframe thead th {\n",
       "        text-align: right;\n",
       "    }\n",
       "</style>\n",
       "<table border=\"1\" class=\"dataframe\">\n",
       "  <thead>\n",
       "    <tr style=\"text-align: right;\">\n",
       "      <th></th>\n",
       "      <th>Unnamed: 0</th>\n",
       "      <th>text</th>\n",
       "      <th>label</th>\n",
       "    </tr>\n",
       "  </thead>\n",
       "  <tbody>\n",
       "    <tr>\n",
       "      <th>0</th>\n",
       "      <td>0</td>\n",
       "      <td>i just feel really helpless and heavy hearted</td>\n",
       "      <td>4</td>\n",
       "    </tr>\n",
       "    <tr>\n",
       "      <th>1</th>\n",
       "      <td>1</td>\n",
       "      <td>ive enjoyed being able to slouch about relax a...</td>\n",
       "      <td>0</td>\n",
       "    </tr>\n",
       "    <tr>\n",
       "      <th>2</th>\n",
       "      <td>2</td>\n",
       "      <td>i gave up my internship with the dmrg and am f...</td>\n",
       "      <td>4</td>\n",
       "    </tr>\n",
       "    <tr>\n",
       "      <th>3</th>\n",
       "      <td>3</td>\n",
       "      <td>i dont know i feel so lost</td>\n",
       "      <td>0</td>\n",
       "    </tr>\n",
       "    <tr>\n",
       "      <th>4</th>\n",
       "      <td>4</td>\n",
       "      <td>i am a kindergarten teacher and i am thoroughl...</td>\n",
       "      <td>4</td>\n",
       "    </tr>\n",
       "  </tbody>\n",
       "</table>\n",
       "</div>"
      ],
      "text/plain": [
       "   Unnamed: 0                                               text  label\n",
       "0           0      i just feel really helpless and heavy hearted      4\n",
       "1           1  ive enjoyed being able to slouch about relax a...      0\n",
       "2           2  i gave up my internship with the dmrg and am f...      4\n",
       "3           3                         i dont know i feel so lost      0\n",
       "4           4  i am a kindergarten teacher and i am thoroughl...      4"
      ]
     },
     "execution_count": 3,
     "metadata": {},
     "output_type": "execute_result"
    }
   ],
   "source": [
    "emotion_df.head()"
   ]
  },
  {
   "cell_type": "code",
   "execution_count": 4,
   "metadata": {},
   "outputs": [],
   "source": [
    "violence_df=pd.read_csv(\"violence.csv\")"
   ]
  },
  {
   "cell_type": "code",
   "execution_count": 5,
   "metadata": {},
   "outputs": [
    {
     "data": {
      "text/html": [
       "<div>\n",
       "<style scoped>\n",
       "    .dataframe tbody tr th:only-of-type {\n",
       "        vertical-align: middle;\n",
       "    }\n",
       "\n",
       "    .dataframe tbody tr th {\n",
       "        vertical-align: top;\n",
       "    }\n",
       "\n",
       "    .dataframe thead th {\n",
       "        text-align: right;\n",
       "    }\n",
       "</style>\n",
       "<table border=\"1\" class=\"dataframe\">\n",
       "  <thead>\n",
       "    <tr style=\"text-align: right;\">\n",
       "      <th></th>\n",
       "      <th>Tweet_ID</th>\n",
       "      <th>tweet</th>\n",
       "      <th>type</th>\n",
       "    </tr>\n",
       "  </thead>\n",
       "  <tbody>\n",
       "    <tr>\n",
       "      <th>0</th>\n",
       "      <td>ID_0022DWKP</td>\n",
       "      <td>Had a dream i got raped last night. By a guy i...</td>\n",
       "      <td>sexual_violence</td>\n",
       "    </tr>\n",
       "    <tr>\n",
       "      <th>1</th>\n",
       "      <td>ID_00395QYM</td>\n",
       "      <td>he thought the word raped means sex and told m...</td>\n",
       "      <td>sexual_violence</td>\n",
       "    </tr>\n",
       "    <tr>\n",
       "      <th>2</th>\n",
       "      <td>ID_003EOSSF</td>\n",
       "      <td>She NOT TALKING TO ME I WAS RAPED BY 2 MEN 1 M...</td>\n",
       "      <td>sexual_violence</td>\n",
       "    </tr>\n",
       "    <tr>\n",
       "      <th>3</th>\n",
       "      <td>ID_004BBHOD</td>\n",
       "      <td>I was sexually abused for 3 years at age 4 to ...</td>\n",
       "      <td>sexual_violence</td>\n",
       "    </tr>\n",
       "    <tr>\n",
       "      <th>4</th>\n",
       "      <td>ID_004F7516</td>\n",
       "      <td>Chessy Prout can do better by telling the trut...</td>\n",
       "      <td>sexual_violence</td>\n",
       "    </tr>\n",
       "  </tbody>\n",
       "</table>\n",
       "</div>"
      ],
      "text/plain": [
       "      Tweet_ID                                              tweet  \\\n",
       "0  ID_0022DWKP  Had a dream i got raped last night. By a guy i...   \n",
       "1  ID_00395QYM  he thought the word raped means sex and told m...   \n",
       "2  ID_003EOSSF  She NOT TALKING TO ME I WAS RAPED BY 2 MEN 1 M...   \n",
       "3  ID_004BBHOD  I was sexually abused for 3 years at age 4 to ...   \n",
       "4  ID_004F7516  Chessy Prout can do better by telling the trut...   \n",
       "\n",
       "              type  \n",
       "0  sexual_violence  \n",
       "1  sexual_violence  \n",
       "2  sexual_violence  \n",
       "3  sexual_violence  \n",
       "4  sexual_violence  "
      ]
     },
     "execution_count": 5,
     "metadata": {},
     "output_type": "execute_result"
    }
   ],
   "source": [
    "violence_df.head()"
   ]
  },
  {
   "cell_type": "code",
   "execution_count": 6,
   "metadata": {},
   "outputs": [],
   "source": [
    "hate_df=pd.read_csv(\"hatespeech.csv\")"
   ]
  },
  {
   "cell_type": "code",
   "execution_count": 7,
   "metadata": {},
   "outputs": [
    {
     "data": {
      "text/html": [
       "<div>\n",
       "<style scoped>\n",
       "    .dataframe tbody tr th:only-of-type {\n",
       "        vertical-align: middle;\n",
       "    }\n",
       "\n",
       "    .dataframe tbody tr th {\n",
       "        vertical-align: top;\n",
       "    }\n",
       "\n",
       "    .dataframe thead th {\n",
       "        text-align: right;\n",
       "    }\n",
       "</style>\n",
       "<table border=\"1\" class=\"dataframe\">\n",
       "  <thead>\n",
       "    <tr style=\"text-align: right;\">\n",
       "      <th></th>\n",
       "      <th>Unnamed: 0</th>\n",
       "      <th>count</th>\n",
       "      <th>hate_speech</th>\n",
       "      <th>offensive_language</th>\n",
       "      <th>neither</th>\n",
       "      <th>class</th>\n",
       "      <th>tweet</th>\n",
       "    </tr>\n",
       "  </thead>\n",
       "  <tbody>\n",
       "    <tr>\n",
       "      <th>0</th>\n",
       "      <td>0</td>\n",
       "      <td>3</td>\n",
       "      <td>0</td>\n",
       "      <td>0</td>\n",
       "      <td>3</td>\n",
       "      <td>2</td>\n",
       "      <td>!!! RT @mayasolovely: As a woman you shouldn't...</td>\n",
       "    </tr>\n",
       "    <tr>\n",
       "      <th>1</th>\n",
       "      <td>1</td>\n",
       "      <td>3</td>\n",
       "      <td>0</td>\n",
       "      <td>3</td>\n",
       "      <td>0</td>\n",
       "      <td>1</td>\n",
       "      <td>!!!!! RT @mleew17: boy dats cold...tyga dwn ba...</td>\n",
       "    </tr>\n",
       "    <tr>\n",
       "      <th>2</th>\n",
       "      <td>2</td>\n",
       "      <td>3</td>\n",
       "      <td>0</td>\n",
       "      <td>3</td>\n",
       "      <td>0</td>\n",
       "      <td>1</td>\n",
       "      <td>!!!!!!! RT @UrKindOfBrand Dawg!!!! RT @80sbaby...</td>\n",
       "    </tr>\n",
       "    <tr>\n",
       "      <th>3</th>\n",
       "      <td>3</td>\n",
       "      <td>3</td>\n",
       "      <td>0</td>\n",
       "      <td>2</td>\n",
       "      <td>1</td>\n",
       "      <td>1</td>\n",
       "      <td>!!!!!!!!! RT @C_G_Anderson: @viva_based she lo...</td>\n",
       "    </tr>\n",
       "    <tr>\n",
       "      <th>4</th>\n",
       "      <td>4</td>\n",
       "      <td>6</td>\n",
       "      <td>0</td>\n",
       "      <td>6</td>\n",
       "      <td>0</td>\n",
       "      <td>1</td>\n",
       "      <td>!!!!!!!!!!!!! RT @ShenikaRoberts: The shit you...</td>\n",
       "    </tr>\n",
       "  </tbody>\n",
       "</table>\n",
       "</div>"
      ],
      "text/plain": [
       "   Unnamed: 0  count  hate_speech  offensive_language  neither  class  \\\n",
       "0           0      3            0                   0        3      2   \n",
       "1           1      3            0                   3        0      1   \n",
       "2           2      3            0                   3        0      1   \n",
       "3           3      3            0                   2        1      1   \n",
       "4           4      6            0                   6        0      1   \n",
       "\n",
       "                                               tweet  \n",
       "0  !!! RT @mayasolovely: As a woman you shouldn't...  \n",
       "1  !!!!! RT @mleew17: boy dats cold...tyga dwn ba...  \n",
       "2  !!!!!!! RT @UrKindOfBrand Dawg!!!! RT @80sbaby...  \n",
       "3  !!!!!!!!! RT @C_G_Anderson: @viva_based she lo...  \n",
       "4  !!!!!!!!!!!!! RT @ShenikaRoberts: The shit you...  "
      ]
     },
     "execution_count": 7,
     "metadata": {},
     "output_type": "execute_result"
    }
   ],
   "source": [
    "hate_df.head()"
   ]
  },
  {
   "cell_type": "markdown",
   "metadata": {},
   "source": [
    "2. Data Preprocessing"
   ]
  },
  {
   "cell_type": "code",
   "execution_count": 8,
   "metadata": {},
   "outputs": [],
   "source": [
    "emotion_df.drop(columns=['Unnamed: 0'],inplace=True)"
   ]
  },
  {
   "cell_type": "code",
   "execution_count": 9,
   "metadata": {},
   "outputs": [
    {
     "data": {
      "text/html": [
       "<div>\n",
       "<style scoped>\n",
       "    .dataframe tbody tr th:only-of-type {\n",
       "        vertical-align: middle;\n",
       "    }\n",
       "\n",
       "    .dataframe tbody tr th {\n",
       "        vertical-align: top;\n",
       "    }\n",
       "\n",
       "    .dataframe thead th {\n",
       "        text-align: right;\n",
       "    }\n",
       "</style>\n",
       "<table border=\"1\" class=\"dataframe\">\n",
       "  <thead>\n",
       "    <tr style=\"text-align: right;\">\n",
       "      <th></th>\n",
       "      <th>text</th>\n",
       "      <th>label</th>\n",
       "    </tr>\n",
       "  </thead>\n",
       "  <tbody>\n",
       "    <tr>\n",
       "      <th>0</th>\n",
       "      <td>i just feel really helpless and heavy hearted</td>\n",
       "      <td>4</td>\n",
       "    </tr>\n",
       "    <tr>\n",
       "      <th>1</th>\n",
       "      <td>ive enjoyed being able to slouch about relax a...</td>\n",
       "      <td>0</td>\n",
       "    </tr>\n",
       "    <tr>\n",
       "      <th>2</th>\n",
       "      <td>i gave up my internship with the dmrg and am f...</td>\n",
       "      <td>4</td>\n",
       "    </tr>\n",
       "    <tr>\n",
       "      <th>3</th>\n",
       "      <td>i dont know i feel so lost</td>\n",
       "      <td>0</td>\n",
       "    </tr>\n",
       "    <tr>\n",
       "      <th>4</th>\n",
       "      <td>i am a kindergarten teacher and i am thoroughl...</td>\n",
       "      <td>4</td>\n",
       "    </tr>\n",
       "  </tbody>\n",
       "</table>\n",
       "</div>"
      ],
      "text/plain": [
       "                                                text  label\n",
       "0      i just feel really helpless and heavy hearted      4\n",
       "1  ive enjoyed being able to slouch about relax a...      0\n",
       "2  i gave up my internship with the dmrg and am f...      4\n",
       "3                         i dont know i feel so lost      0\n",
       "4  i am a kindergarten teacher and i am thoroughl...      4"
      ]
     },
     "execution_count": 9,
     "metadata": {},
     "output_type": "execute_result"
    }
   ],
   "source": [
    "emotion_df.head()"
   ]
  },
  {
   "cell_type": "code",
   "execution_count": 10,
   "metadata": {},
   "outputs": [],
   "source": [
    "violence_df.drop(columns=['Tweet_ID'],inplace=True)"
   ]
  },
  {
   "cell_type": "code",
   "execution_count": 11,
   "metadata": {},
   "outputs": [
    {
     "data": {
      "text/html": [
       "<div>\n",
       "<style scoped>\n",
       "    .dataframe tbody tr th:only-of-type {\n",
       "        vertical-align: middle;\n",
       "    }\n",
       "\n",
       "    .dataframe tbody tr th {\n",
       "        vertical-align: top;\n",
       "    }\n",
       "\n",
       "    .dataframe thead th {\n",
       "        text-align: right;\n",
       "    }\n",
       "</style>\n",
       "<table border=\"1\" class=\"dataframe\">\n",
       "  <thead>\n",
       "    <tr style=\"text-align: right;\">\n",
       "      <th></th>\n",
       "      <th>tweet</th>\n",
       "      <th>type</th>\n",
       "    </tr>\n",
       "  </thead>\n",
       "  <tbody>\n",
       "    <tr>\n",
       "      <th>0</th>\n",
       "      <td>Had a dream i got raped last night. By a guy i...</td>\n",
       "      <td>sexual_violence</td>\n",
       "    </tr>\n",
       "    <tr>\n",
       "      <th>1</th>\n",
       "      <td>he thought the word raped means sex and told m...</td>\n",
       "      <td>sexual_violence</td>\n",
       "    </tr>\n",
       "    <tr>\n",
       "      <th>2</th>\n",
       "      <td>She NOT TALKING TO ME I WAS RAPED BY 2 MEN 1 M...</td>\n",
       "      <td>sexual_violence</td>\n",
       "    </tr>\n",
       "    <tr>\n",
       "      <th>3</th>\n",
       "      <td>I was sexually abused for 3 years at age 4 to ...</td>\n",
       "      <td>sexual_violence</td>\n",
       "    </tr>\n",
       "    <tr>\n",
       "      <th>4</th>\n",
       "      <td>Chessy Prout can do better by telling the trut...</td>\n",
       "      <td>sexual_violence</td>\n",
       "    </tr>\n",
       "  </tbody>\n",
       "</table>\n",
       "</div>"
      ],
      "text/plain": [
       "                                               tweet             type\n",
       "0  Had a dream i got raped last night. By a guy i...  sexual_violence\n",
       "1  he thought the word raped means sex and told m...  sexual_violence\n",
       "2  She NOT TALKING TO ME I WAS RAPED BY 2 MEN 1 M...  sexual_violence\n",
       "3  I was sexually abused for 3 years at age 4 to ...  sexual_violence\n",
       "4  Chessy Prout can do better by telling the trut...  sexual_violence"
      ]
     },
     "execution_count": 11,
     "metadata": {},
     "output_type": "execute_result"
    }
   ],
   "source": [
    "violence_df.head()"
   ]
  },
  {
   "cell_type": "code",
   "execution_count": 12,
   "metadata": {},
   "outputs": [],
   "source": [
    "hate_df.drop(columns=['Unnamed: 0'],inplace=True)"
   ]
  },
  {
   "cell_type": "code",
   "execution_count": 13,
   "metadata": {},
   "outputs": [],
   "source": [
    "hate_df=hate_df[['tweet','class']]"
   ]
  },
  {
   "cell_type": "code",
   "execution_count": 14,
   "metadata": {},
   "outputs": [
    {
     "data": {
      "text/html": [
       "<div>\n",
       "<style scoped>\n",
       "    .dataframe tbody tr th:only-of-type {\n",
       "        vertical-align: middle;\n",
       "    }\n",
       "\n",
       "    .dataframe tbody tr th {\n",
       "        vertical-align: top;\n",
       "    }\n",
       "\n",
       "    .dataframe thead th {\n",
       "        text-align: right;\n",
       "    }\n",
       "</style>\n",
       "<table border=\"1\" class=\"dataframe\">\n",
       "  <thead>\n",
       "    <tr style=\"text-align: right;\">\n",
       "      <th></th>\n",
       "      <th>tweet</th>\n",
       "      <th>class</th>\n",
       "    </tr>\n",
       "  </thead>\n",
       "  <tbody>\n",
       "    <tr>\n",
       "      <th>0</th>\n",
       "      <td>!!! RT @mayasolovely: As a woman you shouldn't...</td>\n",
       "      <td>2</td>\n",
       "    </tr>\n",
       "    <tr>\n",
       "      <th>1</th>\n",
       "      <td>!!!!! RT @mleew17: boy dats cold...tyga dwn ba...</td>\n",
       "      <td>1</td>\n",
       "    </tr>\n",
       "    <tr>\n",
       "      <th>2</th>\n",
       "      <td>!!!!!!! RT @UrKindOfBrand Dawg!!!! RT @80sbaby...</td>\n",
       "      <td>1</td>\n",
       "    </tr>\n",
       "    <tr>\n",
       "      <th>3</th>\n",
       "      <td>!!!!!!!!! RT @C_G_Anderson: @viva_based she lo...</td>\n",
       "      <td>1</td>\n",
       "    </tr>\n",
       "    <tr>\n",
       "      <th>4</th>\n",
       "      <td>!!!!!!!!!!!!! RT @ShenikaRoberts: The shit you...</td>\n",
       "      <td>1</td>\n",
       "    </tr>\n",
       "  </tbody>\n",
       "</table>\n",
       "</div>"
      ],
      "text/plain": [
       "                                               tweet  class\n",
       "0  !!! RT @mayasolovely: As a woman you shouldn't...      2\n",
       "1  !!!!! RT @mleew17: boy dats cold...tyga dwn ba...      1\n",
       "2  !!!!!!! RT @UrKindOfBrand Dawg!!!! RT @80sbaby...      1\n",
       "3  !!!!!!!!! RT @C_G_Anderson: @viva_based she lo...      1\n",
       "4  !!!!!!!!!!!!! RT @ShenikaRoberts: The shit you...      1"
      ]
     },
     "execution_count": 14,
     "metadata": {},
     "output_type": "execute_result"
    }
   ],
   "source": [
    "hate_df.head()"
   ]
  },
  {
   "cell_type": "code",
   "execution_count": 15,
   "metadata": {},
   "outputs": [
    {
     "data": {
      "text/plain": [
       "(Index(['text', 'label'], dtype='object'),\n",
       " Index(['tweet', 'type'], dtype='object'),\n",
       " Index(['tweet', 'class'], dtype='object'))"
      ]
     },
     "execution_count": 15,
     "metadata": {},
     "output_type": "execute_result"
    }
   ],
   "source": [
    "emotion_df.columns,violence_df.columns,hate_df.columns"
   ]
  },
  {
   "cell_type": "code",
   "execution_count": 16,
   "metadata": {},
   "outputs": [],
   "source": [
    "violence_df.rename(columns={'tweet' : 'text','type':'label'},inplace=True)\n",
    "hate_df.rename(columns={'tweet' : 'text','class':'label'},inplace=True)"
   ]
  },
  {
   "cell_type": "code",
   "execution_count": 17,
   "metadata": {},
   "outputs": [
    {
     "data": {
      "text/plain": [
       "(Index(['text', 'label'], dtype='object'),\n",
       " Index(['text', 'label'], dtype='object'),\n",
       " Index(['text', 'label'], dtype='object'))"
      ]
     },
     "execution_count": 17,
     "metadata": {},
     "output_type": "execute_result"
    }
   ],
   "source": [
    "emotion_df.columns,violence_df.columns,hate_df.columns"
   ]
  },
  {
   "cell_type": "code",
   "execution_count": 18,
   "metadata": {},
   "outputs": [
    {
     "data": {
      "text/plain": [
       "(text     0\n",
       " label    0\n",
       " dtype: int64,\n",
       " text     0\n",
       " label    0\n",
       " dtype: int64,\n",
       " text     0\n",
       " label    0\n",
       " dtype: int64)"
      ]
     },
     "execution_count": 18,
     "metadata": {},
     "output_type": "execute_result"
    }
   ],
   "source": [
    "emotion_df.isna().sum(),violence_df.isna().sum(),hate_df.isna().sum()"
   ]
  },
  {
   "cell_type": "code",
   "execution_count": 19,
   "metadata": {},
   "outputs": [
    {
     "data": {
      "text/plain": [
       "((416809, 2), (39650, 2), (24783, 2))"
      ]
     },
     "execution_count": 19,
     "metadata": {},
     "output_type": "execute_result"
    }
   ],
   "source": [
    "emotion_df.shape,violence_df.shape,hate_df.shape"
   ]
  },
  {
   "cell_type": "code",
   "execution_count": 20,
   "metadata": {},
   "outputs": [
    {
     "data": {
      "text/plain": [
       "label\n",
       "1    141067\n",
       "0    121187\n",
       "3     57317\n",
       "4     47712\n",
       "2     34554\n",
       "5     14972\n",
       "Name: count, dtype: int64"
      ]
     },
     "execution_count": 20,
     "metadata": {},
     "output_type": "execute_result"
    }
   ],
   "source": [
    "emotion_df['label'].value_counts()"
   ]
  },
  {
   "cell_type": "code",
   "execution_count": 21,
   "metadata": {},
   "outputs": [],
   "source": [
    "e_df=pd.DataFrame()\n",
    "for i in range(6) :\n",
    "    subset=emotion_df[emotion_df['label']==i].sample(n=2000,random_state=42)\n",
    "    e_df=pd.concat([e_df,subset])"
   ]
  },
  {
   "cell_type": "code",
   "execution_count": 22,
   "metadata": {},
   "outputs": [
    {
     "data": {
      "text/plain": [
       "(12000, 2)"
      ]
     },
     "execution_count": 22,
     "metadata": {},
     "output_type": "execute_result"
    }
   ],
   "source": [
    "e_df.shape"
   ]
  },
  {
   "cell_type": "code",
   "execution_count": 23,
   "metadata": {},
   "outputs": [],
   "source": [
    "emotion_df=e_df.copy()"
   ]
  },
  {
   "cell_type": "code",
   "execution_count": 24,
   "metadata": {},
   "outputs": [
    {
     "data": {
      "text/plain": [
       "label\n",
       "0    2000\n",
       "1    2000\n",
       "2    2000\n",
       "3    2000\n",
       "4    2000\n",
       "5    2000\n",
       "Name: count, dtype: int64"
      ]
     },
     "execution_count": 24,
     "metadata": {},
     "output_type": "execute_result"
    }
   ],
   "source": [
    "emotion_df['label'].value_counts()"
   ]
  },
  {
   "cell_type": "code",
   "execution_count": 25,
   "metadata": {},
   "outputs": [
    {
     "data": {
      "text/plain": [
       "label\n",
       "sexual_violence                 32648\n",
       "Physical_violence                5946\n",
       "emotional_violence                651\n",
       "economic_violence                 217\n",
       "Harmful_Traditional_practice      188\n",
       "Name: count, dtype: int64"
      ]
     },
     "execution_count": 25,
     "metadata": {},
     "output_type": "execute_result"
    }
   ],
   "source": [
    "violence_df['label'].value_counts()"
   ]
  },
  {
   "cell_type": "code",
   "execution_count": 26,
   "metadata": {},
   "outputs": [],
   "source": [
    "sexual_violence=violence_df[violence_df['label']=='sexual_violence'].sample(n=4998, random_state=42)\n",
    "violence_df=violence_df[violence_df['label']!='sexual_violence']"
   ]
  },
  {
   "cell_type": "code",
   "execution_count": 27,
   "metadata": {},
   "outputs": [
    {
     "data": {
      "text/plain": [
       "(7002, 2)"
      ]
     },
     "execution_count": 27,
     "metadata": {},
     "output_type": "execute_result"
    }
   ],
   "source": [
    "violence_df.shape"
   ]
  },
  {
   "cell_type": "code",
   "execution_count": 28,
   "metadata": {},
   "outputs": [],
   "source": [
    "violence_df=pd.concat([sexual_violence,violence_df],axis=0)"
   ]
  },
  {
   "cell_type": "code",
   "execution_count": 29,
   "metadata": {},
   "outputs": [
    {
     "data": {
      "text/plain": [
       "(12000, 2)"
      ]
     },
     "execution_count": 29,
     "metadata": {},
     "output_type": "execute_result"
    }
   ],
   "source": [
    "violence_df.shape"
   ]
  },
  {
   "cell_type": "code",
   "execution_count": 30,
   "metadata": {},
   "outputs": [
    {
     "data": {
      "text/plain": [
       "label\n",
       "1    19190\n",
       "2     4163\n",
       "0     1430\n",
       "Name: count, dtype: int64"
      ]
     },
     "execution_count": 30,
     "metadata": {},
     "output_type": "execute_result"
    }
   ],
   "source": [
    "hate_df['label'].value_counts()"
   ]
  },
  {
   "cell_type": "code",
   "execution_count": 31,
   "metadata": {},
   "outputs": [],
   "source": [
    "label1=hate_df[hate_df['label']==1].sample(n=6407, random_state=42)\n",
    "hate_df=hate_df[hate_df['label']!=1]"
   ]
  },
  {
   "cell_type": "code",
   "execution_count": 32,
   "metadata": {},
   "outputs": [
    {
     "data": {
      "text/plain": [
       "(5593, 2)"
      ]
     },
     "execution_count": 32,
     "metadata": {},
     "output_type": "execute_result"
    }
   ],
   "source": [
    "hate_df.shape"
   ]
  },
  {
   "cell_type": "code",
   "execution_count": 33,
   "metadata": {},
   "outputs": [],
   "source": [
    "hate_df=pd.concat([label1,hate_df],axis=0)"
   ]
  },
  {
   "cell_type": "code",
   "execution_count": 34,
   "metadata": {},
   "outputs": [
    {
     "data": {
      "text/plain": [
       "(12000, 2)"
      ]
     },
     "execution_count": 34,
     "metadata": {},
     "output_type": "execute_result"
    }
   ],
   "source": [
    "hate_df.shape"
   ]
  },
  {
   "cell_type": "code",
   "execution_count": 35,
   "metadata": {},
   "outputs": [
    {
     "data": {
      "text/plain": [
       "((12000, 2), (12000, 2), (12000, 2))"
      ]
     },
     "execution_count": 35,
     "metadata": {},
     "output_type": "execute_result"
    }
   ],
   "source": [
    "emotion_df.shape,violence_df.shape,hate_df.shape"
   ]
  },
  {
   "cell_type": "code",
   "execution_count": 36,
   "metadata": {},
   "outputs": [],
   "source": [
    "emotion_df.reset_index(drop=True,inplace=True)\n",
    "violence_df.reset_index(drop=True,inplace=True)\n",
    "hate_df.reset_index(drop=True,inplace=True)"
   ]
  },
  {
   "cell_type": "markdown",
   "metadata": {},
   "source": [
    "3.Label Encoding"
   ]
  },
  {
   "cell_type": "code",
   "execution_count": 37,
   "metadata": {},
   "outputs": [],
   "source": [
    "label_encoder=LabelEncoder()\n",
    "violence_df['label']=label_encoder.fit_transform(violence_df['label'])"
   ]
  },
  {
   "cell_type": "code",
   "execution_count": 38,
   "metadata": {},
   "outputs": [
    {
     "data": {
      "text/html": [
       "<div>\n",
       "<style scoped>\n",
       "    .dataframe tbody tr th:only-of-type {\n",
       "        vertical-align: middle;\n",
       "    }\n",
       "\n",
       "    .dataframe tbody tr th {\n",
       "        vertical-align: top;\n",
       "    }\n",
       "\n",
       "    .dataframe thead th {\n",
       "        text-align: right;\n",
       "    }\n",
       "</style>\n",
       "<table border=\"1\" class=\"dataframe\">\n",
       "  <thead>\n",
       "    <tr style=\"text-align: right;\">\n",
       "      <th></th>\n",
       "      <th>text</th>\n",
       "      <th>label</th>\n",
       "    </tr>\n",
       "  </thead>\n",
       "  <tbody>\n",
       "    <tr>\n",
       "      <th>0</th>\n",
       "      <td>My cousin was raped by this guy Matthew. She w...</td>\n",
       "      <td>4</td>\n",
       "    </tr>\n",
       "    <tr>\n",
       "      <th>1</th>\n",
       "      <td>HAHAHAHAHAHAHHA I DIDN’T SEE IT THE FIRST TIME...</td>\n",
       "      <td>4</td>\n",
       "    </tr>\n",
       "    <tr>\n",
       "      <th>2</th>\n",
       "      <td>I remember how I almost got raped like it was ...</td>\n",
       "      <td>4</td>\n",
       "    </tr>\n",
       "    <tr>\n",
       "      <th>3</th>\n",
       "      <td>He raped me 👈</td>\n",
       "      <td>4</td>\n",
       "    </tr>\n",
       "    <tr>\n",
       "      <th>4</th>\n",
       "      <td>A woman raped by A male: psychological horror,...</td>\n",
       "      <td>4</td>\n",
       "    </tr>\n",
       "  </tbody>\n",
       "</table>\n",
       "</div>"
      ],
      "text/plain": [
       "                                                text  label\n",
       "0  My cousin was raped by this guy Matthew. She w...      4\n",
       "1  HAHAHAHAHAHAHHA I DIDN’T SEE IT THE FIRST TIME...      4\n",
       "2  I remember how I almost got raped like it was ...      4\n",
       "3                                      He raped me 👈      4\n",
       "4  A woman raped by A male: psychological horror,...      4"
      ]
     },
     "execution_count": 38,
     "metadata": {},
     "output_type": "execute_result"
    }
   ],
   "source": [
    "violence_df.head()"
   ]
  },
  {
   "cell_type": "code",
   "execution_count": 39,
   "metadata": {},
   "outputs": [
    {
     "data": {
      "text/plain": [
       "array([4, 1, 3, 0, 2])"
      ]
     },
     "execution_count": 39,
     "metadata": {},
     "output_type": "execute_result"
    }
   ],
   "source": [
    "violence_df['label'].unique()"
   ]
  },
  {
   "cell_type": "markdown",
   "metadata": {},
   "source": [
    "4. Stopwords Removal"
   ]
  },
  {
   "cell_type": "code",
   "execution_count": 40,
   "metadata": {},
   "outputs": [
    {
     "name": "stderr",
     "output_type": "stream",
     "text": [
      "[nltk_data] Downloading package stopwords to\n",
      "[nltk_data]     C:\\Users\\HP\\AppData\\Roaming\\nltk_data...\n",
      "[nltk_data]   Package stopwords is already up-to-date!\n",
      "[nltk_data] Downloading package punkt to\n",
      "[nltk_data]     C:\\Users\\HP\\AppData\\Roaming\\nltk_data...\n",
      "[nltk_data]   Package punkt is already up-to-date!\n"
     ]
    },
    {
     "data": {
      "text/plain": [
       "True"
      ]
     },
     "execution_count": 40,
     "metadata": {},
     "output_type": "execute_result"
    }
   ],
   "source": [
    "nltk.download('stopwords')\n",
    "nltk.download('punkt')"
   ]
  },
  {
   "cell_type": "code",
   "execution_count": 41,
   "metadata": {},
   "outputs": [],
   "source": [
    "stop_words=set(stopwords.words('english'))"
   ]
  },
  {
   "cell_type": "code",
   "execution_count": 42,
   "metadata": {},
   "outputs": [
    {
     "data": {
      "text/plain": [
       "179"
      ]
     },
     "execution_count": 42,
     "metadata": {},
     "output_type": "execute_result"
    }
   ],
   "source": [
    "len(stop_words)"
   ]
  },
  {
   "cell_type": "code",
   "execution_count": 43,
   "metadata": {},
   "outputs": [],
   "source": [
    "def remove_stopwords(text) :\n",
    "    all_words=nltk.word_tokenize(text)\n",
    "    filtered_words=[word for word in all_words if word.lower() not in stop_words]\n",
    "    return \" \".join(filtered_words)\n",
    "\n",
    "emotion_df['text']=emotion_df['text'].apply(remove_stopwords)\n",
    "violence_df['text']=violence_df['text'].apply(remove_stopwords)\n",
    "hate_df['text']=hate_df['text'].apply(remove_stopwords)"
   ]
  },
  {
   "cell_type": "markdown",
   "metadata": {},
   "source": [
    "5. Tokenization and Padding"
   ]
  },
  {
   "cell_type": "code",
   "execution_count": 44,
   "metadata": {},
   "outputs": [],
   "source": [
    "tokenizer=Tokenizer()\n",
    "tokenizer.fit_on_texts(pd.concat([emotion_df['text'],violence_df['text'],hate_df['text']]))"
   ]
  },
  {
   "cell_type": "code",
   "execution_count": 45,
   "metadata": {},
   "outputs": [],
   "source": [
    "emotion_sequences=tokenizer.texts_to_sequences(emotion_df['text'])\n",
    "violence_sequences=tokenizer.texts_to_sequences(violence_df['text'])\n",
    "hate_sequences=tokenizer.texts_to_sequences(hate_df['text'])"
   ]
  },
  {
   "cell_type": "code",
   "execution_count": 46,
   "metadata": {},
   "outputs": [
    {
     "data": {
      "text/plain": [
       "'feel like lost mourned moved past tears relationship'"
      ]
     },
     "execution_count": 46,
     "metadata": {},
     "output_type": "execute_result"
    }
   ],
   "source": [
    "emotion_df['text'].iloc[2]"
   ]
  },
  {
   "cell_type": "code",
   "execution_count": 47,
   "metadata": {},
   "outputs": [
    {
     "data": {
      "text/plain": [
       "[[1, 5, 321, 11854, 1207, 422, 1093, 385]]"
      ]
     },
     "execution_count": 47,
     "metadata": {},
     "output_type": "execute_result"
    }
   ],
   "source": [
    "emotion_sequences[2:3]"
   ]
  },
  {
   "cell_type": "code",
   "execution_count": 48,
   "metadata": {},
   "outputs": [],
   "source": [
    "max_length=50\n",
    "emotion_padded=pad_sequences(emotion_sequences,maxlen=max_length,padding='post')\n",
    "violence_padded=pad_sequences(violence_sequences,maxlen=max_length,padding='post')\n",
    "hate_padded=pad_sequences(hate_sequences,maxlen=max_length,padding='post')"
   ]
  },
  {
   "cell_type": "code",
   "execution_count": 49,
   "metadata": {},
   "outputs": [
    {
     "data": {
      "text/plain": [
       "array([[    1,     5,   321, 11854,  1207,   422,  1093,   385,     0,\n",
       "            0,     0,     0,     0,     0,     0,     0,     0,     0,\n",
       "            0,     0,     0,     0,     0,     0,     0,     0,     0,\n",
       "            0,     0,     0,     0,     0,     0,     0,     0,     0,\n",
       "            0,     0,     0,     0,     0,     0,     0,     0,     0,\n",
       "            0,     0,     0,     0,     0]], dtype=int32)"
      ]
     },
     "execution_count": 49,
     "metadata": {},
     "output_type": "execute_result"
    }
   ],
   "source": [
    "emotion_padded[2:3]"
   ]
  },
  {
   "cell_type": "code",
   "execution_count": 50,
   "metadata": {},
   "outputs": [],
   "source": [
    "emotion_labels=np.array(emotion_df['label'])\n",
    "violence_labels=np.array(violence_df['label'])\n",
    "hate_labels=np.array(hate_df['label'])"
   ]
  },
  {
   "cell_type": "markdown",
   "metadata": {},
   "source": [
    "6. Model Definition"
   ]
  },
  {
   "cell_type": "code",
   "execution_count": 51,
   "metadata": {},
   "outputs": [],
   "source": [
    "emotion_input=emotion_padded\n",
    "violence_input=violence_padded\n",
    "hate_input=hate_padded"
   ]
  },
  {
   "cell_type": "code",
   "execution_count": 52,
   "metadata": {},
   "outputs": [],
   "source": [
    "emotion_input_layer=keras.layers.Input(shape=(max_length,),name='emotion_input')\n",
    "violence_input_layer=keras.layers.Input(shape=(max_length,),name='violence_input')\n",
    "hate_input_layer=keras.layers.Input(shape=(max_length,),name='hate_input')"
   ]
  },
  {
   "cell_type": "code",
   "execution_count": 53,
   "metadata": {},
   "outputs": [],
   "source": [
    "embedding_layer=keras.layers.Embedding(input_dim=len(tokenizer.word_index)+1,output_dim=128)"
   ]
  },
  {
   "cell_type": "code",
   "execution_count": 54,
   "metadata": {},
   "outputs": [],
   "source": [
    "#apply embedding layer to each input\n",
    "emotion_embedding=embedding_layer(emotion_input_layer)\n",
    "violence_embedding=embedding_layer(violence_input_layer)\n",
    "hate_embedding=embedding_layer(hate_input_layer)"
   ]
  },
  {
   "cell_type": "code",
   "execution_count": 55,
   "metadata": {},
   "outputs": [],
   "source": [
    "#shared LSTM layer\n",
    "shared_lstm=keras.layers.LSTM(64, return_sequences=True)"
   ]
  },
  {
   "cell_type": "code",
   "execution_count": 56,
   "metadata": {},
   "outputs": [],
   "source": [
    "emotion_lstm=shared_lstm(emotion_embedding)\n",
    "violence_lstm=shared_lstm(violence_embedding)\n",
    "hate_lstm=shared_lstm(hate_embedding)"
   ]
  },
  {
   "cell_type": "code",
   "execution_count": 57,
   "metadata": {},
   "outputs": [],
   "source": [
    "#shared global average pooling layer and dropout layer\n",
    "shared_pooling = keras.layers.GlobalAveragePooling1D()\n",
    "shared_dropout = keras.layers.Dropout(0.5)"
   ]
  },
  {
   "cell_type": "code",
   "execution_count": 58,
   "metadata": {},
   "outputs": [],
   "source": [
    "emotion_features = shared_dropout(shared_pooling(emotion_lstm))\n",
    "violence_features = shared_dropout(shared_pooling(violence_lstm))\n",
    "hate_features = shared_dropout(shared_pooling(hate_lstm))"
   ]
  },
  {
   "cell_type": "code",
   "execution_count": 59,
   "metadata": {},
   "outputs": [
    {
     "data": {
      "text/plain": [
       "(6, 5, 3)"
      ]
     },
     "execution_count": 59,
     "metadata": {},
     "output_type": "execute_result"
    }
   ],
   "source": [
    "len(emotion_df['label'].unique()),len(violence_df['label'].unique()),len(hate_df['label'].unique())"
   ]
  },
  {
   "cell_type": "code",
   "execution_count": 60,
   "metadata": {},
   "outputs": [],
   "source": [
    "#output layers\n",
    "emotion_output = keras.layers.Dense(6,activation = 'softmax', name='emotion_output')(emotion_features)\n",
    "violence_output = keras.layers.Dense(5,activation = 'softmax', name='violence_output')(violence_features)\n",
    "hate_output = keras.layers.Dense(3,activation = 'softmax', name='hate_output')(hate_features)"
   ]
  },
  {
   "cell_type": "code",
   "execution_count": 61,
   "metadata": {},
   "outputs": [],
   "source": [
    "#compile the model with multiple inputs and outputs\n",
    "model = keras.models.Model(inputs = [emotion_input_layer,violence_input_layer,hate_input_layer],\n",
    "                           outputs=[emotion_output,violence_output,hate_output])"
   ]
  },
  {
   "cell_type": "code",
   "execution_count": 62,
   "metadata": {},
   "outputs": [],
   "source": [
    "model.compile(optimizer='adam',\n",
    "              loss ={\n",
    "                  'emotion_output' : 'sparse_categorical_crossentropy',\n",
    "                  'violence_output' : 'sparse_categorical_crossentropy',\n",
    "                  'hate_output' : 'sparse_categorical_crossentropy'\n",
    "              },\n",
    "              metrics = {\n",
    "                  'emotion_output' : 'accuracy',\n",
    "                  'violence_output' : 'accuracy',\n",
    "                  'hate_output' : 'accuracy',\n",
    "              })"
   ]
  },
  {
   "cell_type": "code",
   "execution_count": 63,
   "metadata": {},
   "outputs": [
    {
     "data": {
      "text/html": [
       "<pre style=\"white-space:pre;overflow-x:auto;line-height:normal;font-family:Menlo,'DejaVu Sans Mono',consolas,'Courier New',monospace\"><span style=\"font-weight: bold\">Model: \"functional\"</span>\n",
       "</pre>\n"
      ],
      "text/plain": [
       "\u001b[1mModel: \"functional\"\u001b[0m\n"
      ]
     },
     "metadata": {},
     "output_type": "display_data"
    },
    {
     "data": {
      "text/html": [
       "<pre style=\"white-space:pre;overflow-x:auto;line-height:normal;font-family:Menlo,'DejaVu Sans Mono',consolas,'Courier New',monospace\">┏━━━━━━━━━━━━━━━━━━━━━┳━━━━━━━━━━━━━━━━━━━┳━━━━━━━━━━━━┳━━━━━━━━━━━━━━━━━━━┓\n",
       "┃<span style=\"font-weight: bold\"> Layer (type)        </span>┃<span style=\"font-weight: bold\"> Output Shape      </span>┃<span style=\"font-weight: bold\">    Param # </span>┃<span style=\"font-weight: bold\"> Connected to      </span>┃\n",
       "┡━━━━━━━━━━━━━━━━━━━━━╇━━━━━━━━━━━━━━━━━━━╇━━━━━━━━━━━━╇━━━━━━━━━━━━━━━━━━━┩\n",
       "│ emotion_input       │ (<span style=\"color: #00d7ff; text-decoration-color: #00d7ff\">None</span>, <span style=\"color: #00af00; text-decoration-color: #00af00\">50</span>)        │          <span style=\"color: #00af00; text-decoration-color: #00af00\">0</span> │ -                 │\n",
       "│ (<span style=\"color: #0087ff; text-decoration-color: #0087ff\">InputLayer</span>)        │                   │            │                   │\n",
       "├─────────────────────┼───────────────────┼────────────┼───────────────────┤\n",
       "│ violence_input      │ (<span style=\"color: #00d7ff; text-decoration-color: #00d7ff\">None</span>, <span style=\"color: #00af00; text-decoration-color: #00af00\">50</span>)        │          <span style=\"color: #00af00; text-decoration-color: #00af00\">0</span> │ -                 │\n",
       "│ (<span style=\"color: #0087ff; text-decoration-color: #0087ff\">InputLayer</span>)        │                   │            │                   │\n",
       "├─────────────────────┼───────────────────┼────────────┼───────────────────┤\n",
       "│ hate_input          │ (<span style=\"color: #00d7ff; text-decoration-color: #00d7ff\">None</span>, <span style=\"color: #00af00; text-decoration-color: #00af00\">50</span>)        │          <span style=\"color: #00af00; text-decoration-color: #00af00\">0</span> │ -                 │\n",
       "│ (<span style=\"color: #0087ff; text-decoration-color: #0087ff\">InputLayer</span>)        │                   │            │                   │\n",
       "├─────────────────────┼───────────────────┼────────────┼───────────────────┤\n",
       "│ embedding           │ (<span style=\"color: #00d7ff; text-decoration-color: #00d7ff\">None</span>, <span style=\"color: #00af00; text-decoration-color: #00af00\">50</span>, <span style=\"color: #00af00; text-decoration-color: #00af00\">128</span>)   │  <span style=\"color: #00af00; text-decoration-color: #00af00\">5,350,528</span> │ emotion_input[<span style=\"color: #00af00; text-decoration-color: #00af00\">0</span>]… │\n",
       "│ (<span style=\"color: #0087ff; text-decoration-color: #0087ff\">Embedding</span>)         │                   │            │ violence_input[<span style=\"color: #00af00; text-decoration-color: #00af00\">0</span>… │\n",
       "│                     │                   │            │ hate_input[<span style=\"color: #00af00; text-decoration-color: #00af00\">0</span>][<span style=\"color: #00af00; text-decoration-color: #00af00\">0</span>]  │\n",
       "├─────────────────────┼───────────────────┼────────────┼───────────────────┤\n",
       "│ lstm (<span style=\"color: #0087ff; text-decoration-color: #0087ff\">LSTM</span>)         │ (<span style=\"color: #00d7ff; text-decoration-color: #00d7ff\">None</span>, <span style=\"color: #00af00; text-decoration-color: #00af00\">50</span>, <span style=\"color: #00af00; text-decoration-color: #00af00\">64</span>)    │     <span style=\"color: #00af00; text-decoration-color: #00af00\">49,408</span> │ embedding[<span style=\"color: #00af00; text-decoration-color: #00af00\">0</span>][<span style=\"color: #00af00; text-decoration-color: #00af00\">0</span>],  │\n",
       "│                     │                   │            │ embedding[<span style=\"color: #00af00; text-decoration-color: #00af00\">1</span>][<span style=\"color: #00af00; text-decoration-color: #00af00\">0</span>],  │\n",
       "│                     │                   │            │ embedding[<span style=\"color: #00af00; text-decoration-color: #00af00\">2</span>][<span style=\"color: #00af00; text-decoration-color: #00af00\">0</span>]   │\n",
       "├─────────────────────┼───────────────────┼────────────┼───────────────────┤\n",
       "│ global_average_poo… │ (<span style=\"color: #00d7ff; text-decoration-color: #00d7ff\">None</span>, <span style=\"color: #00af00; text-decoration-color: #00af00\">64</span>)        │          <span style=\"color: #00af00; text-decoration-color: #00af00\">0</span> │ lstm[<span style=\"color: #00af00; text-decoration-color: #00af00\">0</span>][<span style=\"color: #00af00; text-decoration-color: #00af00\">0</span>],       │\n",
       "│ (<span style=\"color: #0087ff; text-decoration-color: #0087ff\">GlobalAveragePool…</span> │                   │            │ lstm[<span style=\"color: #00af00; text-decoration-color: #00af00\">1</span>][<span style=\"color: #00af00; text-decoration-color: #00af00\">0</span>],       │\n",
       "│                     │                   │            │ lstm[<span style=\"color: #00af00; text-decoration-color: #00af00\">2</span>][<span style=\"color: #00af00; text-decoration-color: #00af00\">0</span>]        │\n",
       "├─────────────────────┼───────────────────┼────────────┼───────────────────┤\n",
       "│ dropout (<span style=\"color: #0087ff; text-decoration-color: #0087ff\">Dropout</span>)   │ (<span style=\"color: #00d7ff; text-decoration-color: #00d7ff\">None</span>, <span style=\"color: #00af00; text-decoration-color: #00af00\">64</span>)        │          <span style=\"color: #00af00; text-decoration-color: #00af00\">0</span> │ global_average_p… │\n",
       "│                     │                   │            │ global_average_p… │\n",
       "│                     │                   │            │ global_average_p… │\n",
       "├─────────────────────┼───────────────────┼────────────┼───────────────────┤\n",
       "│ emotion_output      │ (<span style=\"color: #00d7ff; text-decoration-color: #00d7ff\">None</span>, <span style=\"color: #00af00; text-decoration-color: #00af00\">6</span>)         │        <span style=\"color: #00af00; text-decoration-color: #00af00\">390</span> │ dropout[<span style=\"color: #00af00; text-decoration-color: #00af00\">0</span>][<span style=\"color: #00af00; text-decoration-color: #00af00\">0</span>]     │\n",
       "│ (<span style=\"color: #0087ff; text-decoration-color: #0087ff\">Dense</span>)             │                   │            │                   │\n",
       "├─────────────────────┼───────────────────┼────────────┼───────────────────┤\n",
       "│ violence_output     │ (<span style=\"color: #00d7ff; text-decoration-color: #00d7ff\">None</span>, <span style=\"color: #00af00; text-decoration-color: #00af00\">5</span>)         │        <span style=\"color: #00af00; text-decoration-color: #00af00\">325</span> │ dropout[<span style=\"color: #00af00; text-decoration-color: #00af00\">1</span>][<span style=\"color: #00af00; text-decoration-color: #00af00\">0</span>]     │\n",
       "│ (<span style=\"color: #0087ff; text-decoration-color: #0087ff\">Dense</span>)             │                   │            │                   │\n",
       "├─────────────────────┼───────────────────┼────────────┼───────────────────┤\n",
       "│ hate_output (<span style=\"color: #0087ff; text-decoration-color: #0087ff\">Dense</span>) │ (<span style=\"color: #00d7ff; text-decoration-color: #00d7ff\">None</span>, <span style=\"color: #00af00; text-decoration-color: #00af00\">3</span>)         │        <span style=\"color: #00af00; text-decoration-color: #00af00\">195</span> │ dropout[<span style=\"color: #00af00; text-decoration-color: #00af00\">2</span>][<span style=\"color: #00af00; text-decoration-color: #00af00\">0</span>]     │\n",
       "└─────────────────────┴───────────────────┴────────────┴───────────────────┘\n",
       "</pre>\n"
      ],
      "text/plain": [
       "┏━━━━━━━━━━━━━━━━━━━━━┳━━━━━━━━━━━━━━━━━━━┳━━━━━━━━━━━━┳━━━━━━━━━━━━━━━━━━━┓\n",
       "┃\u001b[1m \u001b[0m\u001b[1mLayer (type)       \u001b[0m\u001b[1m \u001b[0m┃\u001b[1m \u001b[0m\u001b[1mOutput Shape     \u001b[0m\u001b[1m \u001b[0m┃\u001b[1m \u001b[0m\u001b[1m   Param #\u001b[0m\u001b[1m \u001b[0m┃\u001b[1m \u001b[0m\u001b[1mConnected to     \u001b[0m\u001b[1m \u001b[0m┃\n",
       "┡━━━━━━━━━━━━━━━━━━━━━╇━━━━━━━━━━━━━━━━━━━╇━━━━━━━━━━━━╇━━━━━━━━━━━━━━━━━━━┩\n",
       "│ emotion_input       │ (\u001b[38;5;45mNone\u001b[0m, \u001b[38;5;34m50\u001b[0m)        │          \u001b[38;5;34m0\u001b[0m │ -                 │\n",
       "│ (\u001b[38;5;33mInputLayer\u001b[0m)        │                   │            │                   │\n",
       "├─────────────────────┼───────────────────┼────────────┼───────────────────┤\n",
       "│ violence_input      │ (\u001b[38;5;45mNone\u001b[0m, \u001b[38;5;34m50\u001b[0m)        │          \u001b[38;5;34m0\u001b[0m │ -                 │\n",
       "│ (\u001b[38;5;33mInputLayer\u001b[0m)        │                   │            │                   │\n",
       "├─────────────────────┼───────────────────┼────────────┼───────────────────┤\n",
       "│ hate_input          │ (\u001b[38;5;45mNone\u001b[0m, \u001b[38;5;34m50\u001b[0m)        │          \u001b[38;5;34m0\u001b[0m │ -                 │\n",
       "│ (\u001b[38;5;33mInputLayer\u001b[0m)        │                   │            │                   │\n",
       "├─────────────────────┼───────────────────┼────────────┼───────────────────┤\n",
       "│ embedding           │ (\u001b[38;5;45mNone\u001b[0m, \u001b[38;5;34m50\u001b[0m, \u001b[38;5;34m128\u001b[0m)   │  \u001b[38;5;34m5,350,528\u001b[0m │ emotion_input[\u001b[38;5;34m0\u001b[0m]… │\n",
       "│ (\u001b[38;5;33mEmbedding\u001b[0m)         │                   │            │ violence_input[\u001b[38;5;34m0\u001b[0m… │\n",
       "│                     │                   │            │ hate_input[\u001b[38;5;34m0\u001b[0m][\u001b[38;5;34m0\u001b[0m]  │\n",
       "├─────────────────────┼───────────────────┼────────────┼───────────────────┤\n",
       "│ lstm (\u001b[38;5;33mLSTM\u001b[0m)         │ (\u001b[38;5;45mNone\u001b[0m, \u001b[38;5;34m50\u001b[0m, \u001b[38;5;34m64\u001b[0m)    │     \u001b[38;5;34m49,408\u001b[0m │ embedding[\u001b[38;5;34m0\u001b[0m][\u001b[38;5;34m0\u001b[0m],  │\n",
       "│                     │                   │            │ embedding[\u001b[38;5;34m1\u001b[0m][\u001b[38;5;34m0\u001b[0m],  │\n",
       "│                     │                   │            │ embedding[\u001b[38;5;34m2\u001b[0m][\u001b[38;5;34m0\u001b[0m]   │\n",
       "├─────────────────────┼───────────────────┼────────────┼───────────────────┤\n",
       "│ global_average_poo… │ (\u001b[38;5;45mNone\u001b[0m, \u001b[38;5;34m64\u001b[0m)        │          \u001b[38;5;34m0\u001b[0m │ lstm[\u001b[38;5;34m0\u001b[0m][\u001b[38;5;34m0\u001b[0m],       │\n",
       "│ (\u001b[38;5;33mGlobalAveragePool…\u001b[0m │                   │            │ lstm[\u001b[38;5;34m1\u001b[0m][\u001b[38;5;34m0\u001b[0m],       │\n",
       "│                     │                   │            │ lstm[\u001b[38;5;34m2\u001b[0m][\u001b[38;5;34m0\u001b[0m]        │\n",
       "├─────────────────────┼───────────────────┼────────────┼───────────────────┤\n",
       "│ dropout (\u001b[38;5;33mDropout\u001b[0m)   │ (\u001b[38;5;45mNone\u001b[0m, \u001b[38;5;34m64\u001b[0m)        │          \u001b[38;5;34m0\u001b[0m │ global_average_p… │\n",
       "│                     │                   │            │ global_average_p… │\n",
       "│                     │                   │            │ global_average_p… │\n",
       "├─────────────────────┼───────────────────┼────────────┼───────────────────┤\n",
       "│ emotion_output      │ (\u001b[38;5;45mNone\u001b[0m, \u001b[38;5;34m6\u001b[0m)         │        \u001b[38;5;34m390\u001b[0m │ dropout[\u001b[38;5;34m0\u001b[0m][\u001b[38;5;34m0\u001b[0m]     │\n",
       "│ (\u001b[38;5;33mDense\u001b[0m)             │                   │            │                   │\n",
       "├─────────────────────┼───────────────────┼────────────┼───────────────────┤\n",
       "│ violence_output     │ (\u001b[38;5;45mNone\u001b[0m, \u001b[38;5;34m5\u001b[0m)         │        \u001b[38;5;34m325\u001b[0m │ dropout[\u001b[38;5;34m1\u001b[0m][\u001b[38;5;34m0\u001b[0m]     │\n",
       "│ (\u001b[38;5;33mDense\u001b[0m)             │                   │            │                   │\n",
       "├─────────────────────┼───────────────────┼────────────┼───────────────────┤\n",
       "│ hate_output (\u001b[38;5;33mDense\u001b[0m) │ (\u001b[38;5;45mNone\u001b[0m, \u001b[38;5;34m3\u001b[0m)         │        \u001b[38;5;34m195\u001b[0m │ dropout[\u001b[38;5;34m2\u001b[0m][\u001b[38;5;34m0\u001b[0m]     │\n",
       "└─────────────────────┴───────────────────┴────────────┴───────────────────┘\n"
      ]
     },
     "metadata": {},
     "output_type": "display_data"
    },
    {
     "data": {
      "text/html": [
       "<pre style=\"white-space:pre;overflow-x:auto;line-height:normal;font-family:Menlo,'DejaVu Sans Mono',consolas,'Courier New',monospace\"><span style=\"font-weight: bold\"> Total params: </span><span style=\"color: #00af00; text-decoration-color: #00af00\">5,400,846</span> (20.60 MB)\n",
       "</pre>\n"
      ],
      "text/plain": [
       "\u001b[1m Total params: \u001b[0m\u001b[38;5;34m5,400,846\u001b[0m (20.60 MB)\n"
      ]
     },
     "metadata": {},
     "output_type": "display_data"
    },
    {
     "data": {
      "text/html": [
       "<pre style=\"white-space:pre;overflow-x:auto;line-height:normal;font-family:Menlo,'DejaVu Sans Mono',consolas,'Courier New',monospace\"><span style=\"font-weight: bold\"> Trainable params: </span><span style=\"color: #00af00; text-decoration-color: #00af00\">5,400,846</span> (20.60 MB)\n",
       "</pre>\n"
      ],
      "text/plain": [
       "\u001b[1m Trainable params: \u001b[0m\u001b[38;5;34m5,400,846\u001b[0m (20.60 MB)\n"
      ]
     },
     "metadata": {},
     "output_type": "display_data"
    },
    {
     "data": {
      "text/html": [
       "<pre style=\"white-space:pre;overflow-x:auto;line-height:normal;font-family:Menlo,'DejaVu Sans Mono',consolas,'Courier New',monospace\"><span style=\"font-weight: bold\"> Non-trainable params: </span><span style=\"color: #00af00; text-decoration-color: #00af00\">0</span> (0.00 B)\n",
       "</pre>\n"
      ],
      "text/plain": [
       "\u001b[1m Non-trainable params: \u001b[0m\u001b[38;5;34m0\u001b[0m (0.00 B)\n"
      ]
     },
     "metadata": {},
     "output_type": "display_data"
    }
   ],
   "source": [
    "model.summary()"
   ]
  },
  {
   "cell_type": "code",
   "execution_count": 64,
   "metadata": {},
   "outputs": [
    {
     "name": "stdout",
     "output_type": "stream",
     "text": [
      "Epoch 1/10\n",
      "\u001b[1m3000/3000\u001b[0m \u001b[32m━━━━━━━━━━━━━━━━━━━━\u001b[0m\u001b[37m\u001b[0m \u001b[1m178s\u001b[0m 57ms/step - emotion_output_accuracy: 0.2368 - emotion_output_loss: 1.7233 - hate_output_accuracy: 0.6839 - hate_output_loss: 0.7501 - loss: 2.8897 - violence_output_accuracy: 0.8596 - violence_output_loss: 0.4163\n",
      "Epoch 2/10\n",
      "\u001b[1m3000/3000\u001b[0m \u001b[32m━━━━━━━━━━━━━━━━━━━━\u001b[0m\u001b[37m\u001b[0m \u001b[1m188s\u001b[0m 63ms/step - emotion_output_accuracy: 0.6913 - emotion_output_loss: 0.8521 - hate_output_accuracy: 0.8737 - hate_output_loss: 0.3937 - loss: 1.3125 - violence_output_accuracy: 0.9778 - violence_output_loss: 0.0667\n",
      "Epoch 3/10\n",
      "\u001b[1m3000/3000\u001b[0m \u001b[32m━━━━━━━━━━━━━━━━━━━━\u001b[0m\u001b[37m\u001b[0m \u001b[1m202s\u001b[0m 67ms/step - emotion_output_accuracy: 0.9347 - emotion_output_loss: 0.2092 - hate_output_accuracy: 0.9286 - hate_output_loss: 0.2142 - loss: 0.4409 - violence_output_accuracy: 0.9949 - violence_output_loss: 0.0175\n",
      "Epoch 4/10\n",
      "\u001b[1m3000/3000\u001b[0m \u001b[32m━━━━━━━━━━━━━━━━━━━━\u001b[0m\u001b[37m\u001b[0m \u001b[1m178s\u001b[0m 59ms/step - emotion_output_accuracy: 0.9636 - emotion_output_loss: 0.1150 - hate_output_accuracy: 0.9679 - hate_output_loss: 0.0968 - loss: 0.2199 - violence_output_accuracy: 0.9987 - violence_output_loss: 0.0081\n",
      "Epoch 5/10\n",
      "\u001b[1m3000/3000\u001b[0m \u001b[32m━━━━━━━━━━━━━━━━━━━━\u001b[0m\u001b[37m\u001b[0m \u001b[1m179s\u001b[0m 60ms/step - emotion_output_accuracy: 0.9730 - emotion_output_loss: 0.0843 - hate_output_accuracy: 0.9826 - hate_output_loss: 0.0528 - loss: 0.1427 - violence_output_accuracy: 0.9984 - violence_output_loss: 0.0056\n",
      "Epoch 6/10\n",
      "\u001b[1m3000/3000\u001b[0m \u001b[32m━━━━━━━━━━━━━━━━━━━━\u001b[0m\u001b[37m\u001b[0m \u001b[1m174s\u001b[0m 58ms/step - emotion_output_accuracy: 0.9826 - emotion_output_loss: 0.0536 - hate_output_accuracy: 0.9924 - hate_output_loss: 0.0263 - loss: 0.0812 - violence_output_accuracy: 0.9998 - violence_output_loss: 0.0012\n",
      "Epoch 7/10\n",
      "\u001b[1m3000/3000\u001b[0m \u001b[32m━━━━━━━━━━━━━━━━━━━━\u001b[0m\u001b[37m\u001b[0m \u001b[1m180s\u001b[0m 60ms/step - emotion_output_accuracy: 0.9880 - emotion_output_loss: 0.0379 - hate_output_accuracy: 0.9945 - hate_output_loss: 0.0189 - loss: 0.0576 - violence_output_accuracy: 0.9999 - violence_output_loss: 8.3760e-04\n",
      "Epoch 8/10\n",
      "\u001b[1m3000/3000\u001b[0m \u001b[32m━━━━━━━━━━━━━━━━━━━━\u001b[0m\u001b[37m\u001b[0m \u001b[1m172s\u001b[0m 57ms/step - emotion_output_accuracy: 0.9859 - emotion_output_loss: 0.0396 - hate_output_accuracy: 0.9959 - hate_output_loss: 0.0142 - loss: 0.0553 - violence_output_accuracy: 0.9994 - violence_output_loss: 0.0015\n",
      "Epoch 9/10\n",
      "\u001b[1m3000/3000\u001b[0m \u001b[32m━━━━━━━━━━━━━━━━━━━━\u001b[0m\u001b[37m\u001b[0m \u001b[1m171s\u001b[0m 57ms/step - emotion_output_accuracy: 0.9882 - emotion_output_loss: 0.0331 - hate_output_accuracy: 0.9967 - hate_output_loss: 0.0105 - loss: 0.0452 - violence_output_accuracy: 0.9998 - violence_output_loss: 0.0015\n",
      "Epoch 10/10\n",
      "\u001b[1m3000/3000\u001b[0m \u001b[32m━━━━━━━━━━━━━━━━━━━━\u001b[0m\u001b[37m\u001b[0m \u001b[1m176s\u001b[0m 59ms/step - emotion_output_accuracy: 0.9901 - emotion_output_loss: 0.0276 - hate_output_accuracy: 0.9977 - hate_output_loss: 0.0064 - loss: 0.0359 - violence_output_accuracy: 0.9997 - violence_output_loss: 0.0019\n"
     ]
    },
    {
     "data": {
      "text/plain": [
       "<keras.src.callbacks.history.History at 0x2034985f510>"
      ]
     },
     "execution_count": 64,
     "metadata": {},
     "output_type": "execute_result"
    }
   ],
   "source": [
    "#Training the model with separate inputs\n",
    "model.fit(x ={'emotion_input' : emotion_input,\n",
    "              'violence_input' : violence_input,\n",
    "              'hate_input' : hate_input},\n",
    "              y={\n",
    "              'emotion_output' : emotion_labels,\n",
    "              'violence_output' : violence_labels,\n",
    "              'hate_output' : hate_labels \n",
    "              },\n",
    "              epochs=10,\n",
    "              batch_size=4)\n"
   ]
  },
  {
   "cell_type": "code",
   "execution_count": 65,
   "metadata": {},
   "outputs": [
    {
     "name": "stdout",
     "output_type": "stream",
     "text": [
      "\u001b[1m375/375\u001b[0m \u001b[32m━━━━━━━━━━━━━━━━━━━━\u001b[0m\u001b[37m\u001b[0m \u001b[1m5s\u001b[0m 11ms/step\n"
     ]
    }
   ],
   "source": [
    "prediction = model.predict({\n",
    "    'emotion_input' : emotion_input,\n",
    "    'violence_input' : violence_input,\n",
    "    'hate_input' : hate_input\n",
    "})"
   ]
  },
  {
   "cell_type": "code",
   "execution_count": 66,
   "metadata": {},
   "outputs": [
    {
     "data": {
      "text/plain": [
       "[array([[9.9998450e-01, 8.8494180e-06, 3.4625009e-07, 4.8177144e-06,\n",
       "         1.3794192e-06, 1.2314311e-08],\n",
       "        [9.9999654e-01, 2.4396090e-07, 9.3656327e-09, 2.6667103e-06,\n",
       "         5.4266860e-07, 2.3237210e-09],\n",
       "        [9.9999368e-01, 9.0638838e-07, 5.1371604e-08, 4.4802964e-06,\n",
       "         9.9158717e-07, 1.8983819e-08],\n",
       "        ...,\n",
       "        [5.7707835e-05, 6.8606969e-05, 5.6748422e-06, 1.6441085e-05,\n",
       "         1.1422262e-03, 9.9870944e-01],\n",
       "        [5.3245759e-07, 1.5195498e-06, 8.9370928e-08, 2.9012512e-07,\n",
       "         1.0793142e-05, 9.9998677e-01],\n",
       "        [4.5196648e-05, 9.8984761e-05, 5.5608862e-06, 2.7361406e-05,\n",
       "         2.4398310e-04, 9.9957877e-01]], dtype=float32),\n",
       " array([[2.5710334e-10, 3.6140268e-11, 1.8497491e-10, 6.1573947e-11,\n",
       "         1.0000000e+00],\n",
       "        [1.5766320e-09, 1.6497926e-09, 6.3922387e-09, 1.0240728e-09,\n",
       "         1.0000000e+00],\n",
       "        [3.1035459e-08, 2.3751807e-09, 5.7534538e-10, 2.6105054e-10,\n",
       "         1.0000000e+00],\n",
       "        ...,\n",
       "        [1.7639643e-08, 1.0000000e+00, 7.4740364e-10, 8.5680156e-09,\n",
       "         3.2023497e-08],\n",
       "        [1.2955961e-10, 1.0000000e+00, 1.6043931e-12, 7.8404427e-12,\n",
       "         3.3670886e-11],\n",
       "        [5.1995674e-10, 1.0000000e+00, 1.1841391e-11, 2.0679482e-11,\n",
       "         1.3363148e-10]], dtype=float32),\n",
       " array([[2.6564537e-06, 9.9999583e-01, 1.4844111e-06],\n",
       "        [2.4949107e-04, 9.9974900e-01, 1.5514433e-06],\n",
       "        [1.4359837e-05, 9.9998474e-01, 8.6849593e-07],\n",
       "        ...,\n",
       "        [9.9996221e-01, 3.6857553e-05, 1.0004752e-06],\n",
       "        [3.6388326e-05, 5.4327846e-03, 9.9453086e-01],\n",
       "        [6.3680312e-07, 6.8980256e-08, 9.9999928e-01]], dtype=float32)]"
      ]
     },
     "execution_count": 66,
     "metadata": {},
     "output_type": "execute_result"
    }
   ],
   "source": [
    "prediction"
   ]
  },
  {
   "cell_type": "code",
   "execution_count": 67,
   "metadata": {},
   "outputs": [],
   "source": [
    "emotion_pred = np.argmax(prediction[0], axis = 1)\n",
    "violence_pred = np.argmax(prediction[1], axis = 1)\n",
    "hate_pred = np.argmax(prediction[2], axis = 1)"
   ]
  },
  {
   "cell_type": "code",
   "execution_count": 68,
   "metadata": {},
   "outputs": [],
   "source": [
    "def plot_cm(true, pred, title, labels) :\n",
    "    cf = confusion_matrix(true, pred, normalize='true')\n",
    "    plt.figure(figsize =(7,6))\n",
    "    sns.heatmap(cf,annot=True, cmap='Blues', xticklabels=labels,yticklabels=labels)\n",
    "    plt.title(title)\n",
    "    plt.ylabel('Actual')\n",
    "    plt.xlabel('Predicted')\n",
    "\n",
    "emotion_labels_text = ['sadness','joy','love','anger','fear','surprise']\n",
    "violence_labels_text = ['sexual_violence','physical_violence','emotional_violence','harmful_traditional_practices','economic_violence']\n",
    "hate_labels_text=['offensive_speech','neither','hate_speech']"
   ]
  },
  {
   "cell_type": "code",
   "execution_count": 69,
   "metadata": {},
   "outputs": [
    {
     "data": {
      "image/png": "iVBORw0KGgoAAAANSUhEUgAAAkMAAAIjCAYAAAAAzR/BAAAAOnRFWHRTb2Z0d2FyZQBNYXRwbG90bGliIHZlcnNpb24zLjEwLjAsIGh0dHBzOi8vbWF0cGxvdGxpYi5vcmcvlHJYcgAAAAlwSFlzAAAPYQAAD2EBqD+naQAAhElJREFUeJzt3QV8E+cbB/BfariUluIOK9aWYi3uujF08EeLM2TFBwwoMqCDMYa7OxsDxgbDBwzfcB/uVijukP/neUtCU6NllEtyv+8+N5rL5fLe5e7y5HnlDEaj0QgiIiIinXLQugBEREREWmIwRERERLrGYIiIiIh0jcEQERER6RqDISIiItI1BkNERESkawyGiIiISNcYDBEREZGuMRgiIiIiXWMwRHbr1KlTqFy5MlKkSAGDwYAVK1Z80PWfP39erXf27NkfdL22rGzZsmr6UB4+fIjWrVsjbdq0al936dLlg63b1jVv3hxZs2bVuhhEdoHBEMWrM2fOoF27dsiePTsSJkyI5MmTo0SJEhgzZgyePHkSr+8dEBCAw4cPY+jQoZg3bx4KFy4Me/oilOBA9mdU+1ECQXleppEjR8Z5/VevXsXAgQNx4MABaGnYsGEq2Gzfvr36DJs2bRqv7yfBhWm/RZyqVq2Kj81aPgcie+ekdQHIfq1atQpffPEFEiRIgGbNmiF//vx4/vw5tm3bhp49e+Lo0aOYOnVqvLy3BAg7d+5E37590alTp3h5jyxZsqj3cXZ2hhacnJzw+PFj/Pbbb6hfv77FcwsWLFDB59OnT9/7S3jQoEEqOChQoECsX7du3Tp8SJs2bYK/vz8GDBiAj0W2t3v37pHmp0+fHh9bTJ/DtGnT8Pr1649eJiJ7xGCI4sW5c+fwv//9TwUM8oWWLl0683MdO3bE6dOnVbAUX27duqX+TZkyZby9h2QLJODQigSZkmVbtGhRpGBo4cKF+PTTT/HLL798lLJIUJY4cWK4uLh80PXevHkTefPm/WDre/nypQogYipnhgwZ0KRJE1g7rYJwInvEajKKFyNGjFDtPWbMmGERCJnkzJkTnTt3tviS+vbbb5EjRw71JS+/hL/55hs8e/bM4nUy/7PPPlPZpaJFi6pgRKrg5s6da15GqhUkCBOSgZKgxdS2Irp2FvIaWS689evXo2TJkiqgSpo0KTw9PVWZ3tVmSIK/UqVKIUmSJOq1NWvWxPHjx6N8PwkKpUyynLRtatGihQosYqtRo0b4448/cPfuXfO8v//+W1WTyXMR3blzBz169ICXl5faJqlmq1atGg4ePGheZvPmzShSpIj6W8pjqiYybae0CZIs3969e1G6dGkVBJn2S8Q2Q1JVKZ9RxO2vUqUKXF1dVeYjKlIGeU8JqiVoNpVB9rkpSGrVqhXSpEmj1u/j44M5c+ZYrMP0+Ug14ejRo83H1rFjx/BfyWcm++/ixYvqeJS/JYiaMGGCel6qZ8uXL6+OATkWJTiN6OzZsypzmipVKrUPJQMW/gfCuz6HqI7lR48eqaxWpkyZ1LbKMSvbbzQaLZaT9UjGVNrRyWcpy+bLlw9r1qz5z/uGyBYxGKJ4IVU3EqQUL148VstLI9mgoCAULFgQP/74I8qUKYPg4GCVXYpIAoh69eqhUqVK+OGHH9SXqnwxSLWbqFOnjlqHaNiwoWprIl+GcSHrki85CcYGDx6s3ufzzz/H9u3bY3zdhg0b1Be9fFlLwNOtWzfs2LFDZXBMX+ThSUbnwYMHalvlb/mik2qR2JJtlS+2ZcuWmefJF2/u3LnVvozqC1i+AGXbRo0apYJF+eKW/W0KTPLkyaO2WbRt21btP5kk8DG5ffu2CqKk6kb2bbly5aIsn7QNS506tQqKXr16peZNmTJFVaeNGzcu2qonKYO8p7u7u3oPUxlkXVI1KQGXPG7cuDG+//57FUjKMSDvF9GsWbPUe8m2yOcowUdMXrx4gZCQkEhTxLZZsj2yDyTwkOBfAhMJMOQzlPZF0kZt+PDhSJYsmaomlsDO5MaNG+rcWLt2LTp06KDatUmVphxjy5cvj/XnEJ4EPPJ6Ofbl/eXzlWBIPmM5DiOSHxTy3nKOSfnl/evWras+WyLdMRJ9YPfu3ZOfocaaNWvGavkDBw6o5Vu3bm0xv0ePHmr+pk2bzPOyZMmi5m3dutU87+bNm8YECRIYu3fvbp537tw5tdz3339vsc6AgAC1jogGDBigljf58ccf1eNbt25FW27Te8yaNcs8r0CBAkYPDw/j7du3zfMOHjxodHBwMDZr1izS+7Vs2dJinbVr1za6ublF+57htyNJkiTq73r16hkrVKig/n716pUxbdq0xkGDBkW5D54+faqWibgdsv8GDx5snvf3339H2jaTMmXKqOcmT54c5XMyhbd27Vq1/JAhQ4xnz541Jk2a1FirVi1jbMhn9emnn1rMGz16tFrf/PnzzfOeP39uLFasmFr3/fv3zdslyyVPnlwdI7F9P3lNVFNwcLDF/pd5w4YNM88LDQ01JkqUyGgwGIyLFy82zz9x4oRaVj5zky5duqh5f/31l3negwcPjNmyZTNmzZrV/BnF9DlEPJZXrFhh3s/hyfEhZTp9+rR5nizn4uJiMU+OU5k/bty4WO0rInvCzBB9cPfv31f/yi/i2Fi9erX6N+KvV1Mj1ohti6QNiVRDmUi2QH4BS9bjQzG1Nfr1119j3Uj12rVrqtePZCjCZx+8vb1VFsu0neF9+eWXFo9lu+SXuWkfxoZUh0mVyvXr11UVnfwbVRWZkOoQBwcHc2ZD3stUBbhv375Yv6esR6puYkOGN5AehZLlkEyWVGtJduh9yX6UrvaS9QvffiYwMFBVzW7ZssViecl2yDESW35+fqqKNOIU/v3CZzTDHzOyH6VqLHwbLpknz4U/PmUbpJpXqmFN5HOQDJBkEN+nKk/W6ejoqPZDxPNI4h+pTg2vYsWKquow/HEq1aYf8jwishUMhuiDkwuqkOqf2Lhw4YL6gpZ2ROHJF558icjz4WXOnDnSOqSqLDQ0FB9KgwYNVNWWfNlJuxSpSvjpp59iDIxM5ZQvv4ikykOqWqRNR0zbItsh4rIt1atXV4HnkiVLVC8yaWcScV+aSPmlGiVXrlwqoJFqKAkUDh06hHv37sX6PaV9TFwaS0u7FQkQJVgcO3YsPDw88L5kP0v5TUFd+H1sej68bNmyxWn9sk8kUIg4mdqhmUhQFzHIkuq6jBkzRmp/JvPDf6ZSxuiOk6i2ITbkNVLtGPFHSHTr/BjnEZGtYDBE8RIMyUX5yJEjcXpdxC+Q6Miv36hEbCQal/cwtWcxSZQoEbZu3araAMnYNhIsSIAkGZ6Iy/4X/2VbTCSokYyLNCCW9ibRZYVM4/ZIBk7ancyfP1+1WZGshzSejUs3bdk/cbF//37VjkpIG6WPKa5l/a+f3Yf4TD8GWykn0cfAYIjihTTQlQEXZayfd5Ff3PJFLD2gwpNGptJLKuIv8v9CfvmG73llEtUvcck8VKhQQTVElWoLaeQq1VB//vlntNshTp48Gem5EydOqIyDVKHEBwmAJOCQbFxUjc5Nli5dqho7Sy8/WU6qsCTrEXGfxDYwjQ3JhkmVmlRvSjWQNNaVHm/vS/azHCsRgzfZx6bnrZ2UMbrjxPR8XD8HeY00go+YkbWl/UKkFQZDFC++/vpr9cUv1UwS1EQkgZKp549U84iIPb4kCBEyXs6HIm0kpDpIMj3h2/qYevCE74IekWnQu4jd/U1kCAFZRjI04YMLyZBJ7ynTdsYHCXBkaILx48er6sWYsgERf/n//PPPuHLlisU8U9AWVeAYV7169VJd0GW/yGcqva6kd1l0+/FdZD9KuyipFgw/NIP0GJN2N9IzztrJNuzZs8fix4IEjTIIqewf09hKcfkcZJ2StZRjIDypFpWgSnq+EVHUOOgixQsJOqSLt1QtSZuF8CNQS1dz+QKWhsZCxoiRL0f5IpCLvnyZyReFfHnWqlUr2m7b70OyIfLlXLt2bdXQVMb0mTRpEj755BOLBsTS2FeqySQQk1/UUsUzceJE1R4kfKPXiKSbt3zpFCtWTI2DI92x5Uta2oxIV/v4Ilmsfv36xSpjJ9smmRrp2i1VVtLOSIZBiPj5SXutyZMnqzYo8qUsDYvj2v5GMmmy32QEaVNXf+nqLl3j+/fvr7JEcSXZJWmALcePjHUkwYNkvGTYAwmoY9twPzoSGEoVYkQSaMnx+CH07t1bDZYpx4och9KeSo536X4vA2Wa2kPF5XOoUaOGOldk1HVphC3nlQTh0glA7ukWvrE0EUWgdXc2sm///vuvsU2bNqq7sHTlTZYsmbFEiRKq+6508zZ58eKF6g4uXYudnZ2NmTJlMvbp08dimei6WkfVpTu6rvVi3bp1xvz586vyeHp6qi7aEbvWb9y4UQ0NkD59erWc/NuwYUO1PRHfI2K35w0bNqhtlG7W0q27Ro0axmPHjlksY3q/iF33ZV0yX9Yd26710Ymua70MQZAuXTpVPinnzp07o+wS/+uvvxrz5s1rdHJysthOWS5fvnxRvmf49UgXd/m8ChYsqD7f8Lp27aqGG5D3jkl0n/eNGzeMLVq0MLq7u6vPx8vLK9LnENMx8D5d68N3Y49u/0e3b6LajjNnzqhu7ylTpjQmTJjQWLRoUePvv/8e6bXRfQ5RDRMh3fNl38rxKudRrly51Pa/fv3aYjlZT8eOHaMsp6yXSG8M8r+IARIRERGRXrDNEBEREekagyEiIiLSNQZDREREpGsMhoiIiEjXGAwRERGRrjEYIiIiIl1jMERERES6ZpcjUCfy7aR1Eaxe6N+WQ/YTEZH1SOhkP9+ZT/Zb//cNM0NERESka3aZGSIiIqJYMjAvwmCIiIhIzwwG6B3DQSIiItI1ZoaIiIj0zMC8CPcAERER6RozQ0RERHpmYJshZoaIiIhI15gZIiIi0jMD8yLcA0RERKRrzAwRERHpmYFthhgMERER6ZmBlUSa74EnT57g8ePH5scXLlzA6NGjsW7dOk3LRURERPqgeTBUs2ZNzJ07V/199+5d+Pn54YcfflDzJ02apHXxiIiI7L+azBCPkw3QPBjat28fSpUqpf5eunQp0qRJo7JDEiCNHTtW6+IRERGRndO8zZBUkSVLlkz9LVVjderUgYODA/z9/VVQRERERPHIoHleRHOa74GcOXNixYoVuHTpEtauXYvKlSur+Tdv3kTy5Mm1Lh4RERHZOc2DoaCgIPTo0QNZs2ZV7YWKFStmzhL5+vpqXTwiIiL7ZmCbIc2ryerVq4eSJUvi2rVr8PHxMc+vUKECateurWnZiIiIyP5pHgyJtGnTqkncv38fmzZtgqenJ3Lnzq110YiIiOybQfNKIs1pvgfq16+P8ePHm8ccKly4sJrn7e2NX375ReviERER2TcDq8k0D4a2bt1q7lq/fPlyGI1GNd6QdKsfMmSI1sUjIiIiO6d5MHTv3j2kSpVK/b1mzRrUrVsXiRMnxqeffopTp05pXTwiIiL7ryYzxONkAzQvZaZMmbBz5048evRIBUOmrvWhoaFImDCh1sUjIiIiO6d5A+ouXbqgcePGSJo0KTJnzoyyZcuaq8+8vLy0Lh4REZF9M2ieF9Gc5sFQhw4dULRoUTXoYqVKldTo0yJ79uxsM0RERET2HwwJ6UEmvcfOnTuHHDlywMnJSbUZIiIionjmYBs9vuKTgzXcm6xVq1aq0XS+fPlw8eJFNf+rr77Cd999p3XxiIiIyM5pHgz16dMHBw8exObNmy0aTFesWBFLlizRtGxERER2z8DeZJpXk8lNWiXokbvUG8INziRZojNnzmhaNiIiIrtnYDWZ5iHbrVu34OHhEWm+dLUPHxwRERER2WUwJI2nV61aZX5sCoCmT59uvoM9ERERxRMDq8k0L+WwYcPwzTffoH379nj58iXGjBmjBl6cNWsWhg4dCltWomAOLB3dDmfXDcWT/eNRo6y31kWyOosXLkC1SuVRxNcLjf/3BQ4fOqR1kawO91HM9LB/4rqN69b+gZqfVVXL161VA39t3WLxvNz2aMK4MahQpiSKFvRG21bNceHCeYtlpk2ZhGaN/we/Qj4o6V8Yet8f9+7eRZ+vu6N40YJqfwzo/w0eP3pkfv7KlcvwyecZaTp08MAH3nqyy2CoZMmSOHDggAqEZJDFdevWqWozGZW6UKFCsGVJEiXA4X+voEswG4JHZc0fqzFyRDDadeiIxT8vh6dnbrRv1wq3b9/WumhWg/soZnrYP3HdxgP796F3z+6oXacelixdgXLlK6DLVx1x6tS/5mVmzZiGRQvmod+AgZi/6CckSpQI7du2wrNnz8zLvHjxApUqV8UXDRrCmmi1P/r06oEzp09j8vRZGDthMvb98w8GDwyK9H5TZ8zGxs3bzFOevPlg9Qy8UavBKCGxnUnk2wnWRjJD9btOxW+breNXa+jf47UugvpFly+/F77pF3ZBef36NSpXKIOGjZqiVZu2WhfPKnAfxUwP+yeu29izexc8efIE4ydOMc9r0rA+PHPnRv8Bg1UWpGLZUmjWvAUCWrRSzz948ADlSxfH4KHfoVp1yzHefl2+DN8PH4Ztu/6BXvfH2TNnUPvz6li4ZKl6b7H9r63o2L4t1m3aAg+PNCozVL1yBRVw5c6T5z9vZ8KP2L0pUaXh8br+J+t7wdppnhkyHcz//vsvtm3bpm7DEX4i+/Ti+XMcP3YU/sWKm+fJ6OP+/sVx6OB+TctmLbiPYqaH/fM+23jowAH4+1u2tyxeoqSaL65cvoyQkFvw83+7zmTJksHL28fq95tW++Pgwf1Iljy5ORASfsWKq/eOWEXXuVN7lC1VDAFNGmLzpo2wCQa2GdK8a/2uXbvQqFEjXLhwQUXo4Ulj6levXsX4ekljhk9lCuPrVzA4OMZLeenDCL0bqj5bNzc3i/ny+Ny5s5qVy5pwH8VMD/vnfbYxJCQEbm7ukZYPuR3y5vlbYfPcI69TXmvNtNoft0NCkCpVKovn5U4JyVOkwO03r5eBg7v37I0CBQvCwWDAhvXr0CWwI0aPnYCy5Sv8520nOw+GvvzyS3OPsnTp0sW5O31wcDAGDRpkMc8xTRE4pyv6gUtKREQUNVfXVKqqzSS/lzdu3bqJ2bNmWH8wZLCNdj3xSfP81alTp1SPsjx58iBlypRIkSKFxRSbEazv3btnMTmlse2G13rgmtIVjo6OkRo9ymN3d8tfcXrFfRQzPeyf99lGmX/7TdbDYvk32RF399Rh80Jsb79ptT/c3N1x584di+el08/9e/fg9ub1UfHy8sGlN7eYsmoGVpNpXko/Pz+cPn36vV+fIEECJE+e3GJiFZn1c3ZxUb0sdu/aadF2bPfunfD28dW0bNaC+yhmetg/77ON3gUKYPeuXRbzdu3coeaLDBkzqgBA1mHy8OFDHD500Or3m1b7w8fHFw/u38exo0fMy+zZvUu9t5d39EOmnDxxHO6pow+WyHpoXk0mN2Tt3r07rl+/rrrWOzs7Wzwvd7O3VUkSuSBHprcnQtYMbvD+JANC7z/Gpeuh0LumAS3Q/5teyJcvv0opz583R/X6qFW7jtZFsxrcRzHTw/551zb27fO16s3UuWt39bhxk2Zo1bwp5syeidKly6iu6EePHEH/gYPV89IUoXHTZmocoSyZs6hgQMbYSe3hgfIVKprf99rVqyrTfu3aVdVO58Tx42p+5syZkThJEuhpf2TPkQMlSpbCoAH90S9oEF6+fIHgod+iarVP1XuJlSuWq+8vU0+yjRvWY8XyXzBg8BBYPQOryTQPhurWrav+bdmypXmeHJzSmDo2DaitWcG8WbBuemfz4xE9wrZ13spdaDtgPvSuarXqCL1zBxPHj1WNGD1z58HEKdNVSprCcB/FTA/7513beP3aNTiEq4oo4FsQwSNGYvzY0Rg3ehQyZ8mK0eMmIFeuT8zLtGjVRgUQMk7Ogwf34VuwkFqnZNpN5P1W/rrc/LhBvVrq3+mz5qJIUT/obX8EDx+pAqC2rQJUL7IKlSqjd59+FmWbOnkirl67CidHR2TNlh0jRv6ISlWqfpT9QjY+zpD0IotJlixZ7GKcIWtjDeMMERGRFYwzVH1MvK7/yeq3SQFrpXlm6H2CHSIiIiKbDoZWrlwZ62U///zzeC0LERGRrhnYZkiTYKhWrbC654hthMI/NrHlNkNERERk/TTpWi/dEU2T3Ji1QIEC+OOPP3D37l01rV69GgULFsSaNWu0KB4REZF+GDjOkOZthrp06YLJkyeru9ebVKlSRQ1t3rZtWxx/052TiIiI4oHBNgKW+KT5Hjhz5owaeToiGX36/PnzmpSJiIiI9EPzYKhIkSLo1q0bbty4YZ4nf/fs2RNFi/L+YkRERPHKYIjfyQZoHgzNnDkT165dU6Oa5syZU03y95UrVzBjxgyti0dERER2TvM2QxL8HDp0COvXr8eJEyfUPLlpa8WKFeN8B3siIiKKI4PmeRHNaR4MCQl6KleurCYiIiIi3QVDjx49wpYtW3Dx4kU8f/7c4rnAwEDNykVERGT3DKyF0TwY2r9/P6pXr47Hjx+roChVqlQICQlRXes9PDwYDBEREVG80ryisGvXrqhRowZCQ0ORKFEi7Nq1S928tVChQhg5cqTWxSMiIrJvBg66qHkpDxw4gO7du8PBwQGOjo549uwZMmXKhBEjRuCbb77RunhERET2zcCu9ZoHQ87OzioQElItJu2GTIMuXrp0SePSERERkb3TvM2Qr68v/v77b+TKlQtlypRBUFCQajM0b9485M+fX+viERER2TWDjWRv7DozNGzYMKRLl079PXToULi6uqJ9+/YqIJoyZYrWxSMiIiI7p3lmKF++fDAajeZqMrlp6/Lly5E3b151N3siIiKKPwZmhrTPDNWsWRNz585Vf9+9exf+/v4YNWoUatWqhUmTJmldPCIiIrJzmgdD+/btQ6lSpdTfS5cuRZo0aVTXegmQxo4dq3XxiIiI7JshnicboHkwJIMtJkuWTP29bt061KlTR/UukwyRBEVEREREdh0MyY1aV6xYobrRr1271nx/sps3byJ58uRaF4+IiMju2wwZ4nGyBZoHQ9KVvkePHsiaNSv8/PxQrFgxc5ZIut0TERFR/GEwZAW9yerVq4eSJUvi2rVr8PHxMc+vUKECateurWnZiIiIyP5pHgyJtGnTqim8okWLalYeIiIivTDYSPbGrqvJiIiIiKD3zBARERFpw8DMEDNDREREpG/MDBEREemZQesCaI+ZISIiItI1ZoaIiIh0zMA2Q8wMERERkb4xM0RERKRjBmaG7DMYCv17vNZFsHquRTppXQSrxmOIiPTCwGCI1WRERESkb3aZGSIiIqLYMTAzxMwQERER6RszQ0RERHpm0LoA2mNmiIiIiHSNmSEiIiIdM7DNEDNDREREpG/MDBEREemYgZkhBkNERER6ZmAwxGoyIiIi0jcGQ0RERHpmiOcpjiZMmICsWbMiYcKE8PPzw549e2JcfvTo0fD09ESiRImQKVMmdO3aFU+fPo3TezIYIiIiIquwZMkSdOvWDQMGDMC+ffvg4+ODKlWq4ObNm1Euv3DhQvTu3Vstf/z4ccyYMUOt45tvvonT+zIYIiIi0nmbIUM8TnExatQotGnTBi1atEDevHkxefJkJE6cGDNnzoxy+R07dqBEiRJo1KiRyiZVrlwZDRs2fGc2KSIGQ0RERBRvnj17hvv371tMMi+i58+fY+/evahYsaJ5noODg3q8c+fOKNddvHhx9RpT8HP27FmsXr0a1atXj1MZGQwRERHpmCGeM0PBwcFIkSKFxSTzIgoJCcGrV6+QJk0ai/ny+Pr161GWXTJCgwcPRsmSJeHs7IwcOXKgbNmyrCYjIiIi69GnTx/cu3fPYpJ5H8LmzZsxbNgwTJw4UbUxWrZsGVatWoVvv/02TuvhOENEREQ6ZojncYYSJEigpndxd3eHo6Mjbty4YTFfHqdNmzbK1/Tv3x9NmzZF69at1WMvLy88evQIbdu2Rd++fVU1W2wwM0RERKRjBitpQO3i4oJChQph48aN5nmvX79Wj4sVKxblax4/fhwp4JGAShiNxli/NzNDREREZBWkW31AQAAKFy6MokWLqjGEJNMjvctEs2bNkCFDBnOboxo1aqgeaL6+vmpMotOnT6tskcw3BUWxwWCIiIhIzwywGg0aNMCtW7cQFBSkGk0XKFAAa9asMTeqvnjxokUmqF+/fir7JP9euXIFqVOnVoHQ0KFD4/S+BmNc8kg24ulLrUtg/VyLdNK6CFYt9O/xWheBiHQs4UdMVaT/clm8rv/q5DqwdswMERER6ZiBN2plA2oiIiLSN2aGiIiIdMzAzBAzQ0RERKRvzAwRERHpmIGZIQZDREREumbQugDaYzUZERER6ZqmwdDZs2e1fHsiIiLdM1jJ7Th0GwzlzJkT5cqVw/z58/H06VMti0JEREQ6pWkwtG/fPnh7e6t7kcgdadu1a4c9e/ZoWSQiIiJdMTAzpG0wJPccGTNmDK5evYqZM2fi2rVrKFmyJPLnz69uvCb3JyEiIiKy+wbUTk5OqFOnDn7++WcMHz5c3XW2R48eyJQpk7pDrQRJtmrxwgWoVqk8ivh6ofH/vsDhQ4e0LpLVKFEwB5aOboez64biyf7xqFHWG/Ygrp/5urV/oOZnVdXydWvVwF9bt1g8L7cPnDBuDCqUKYmiBb3RtlVzXLhw3vz8lSuXMaD/N6hWubx6/tOqFTFx/Fi8eP7cYhmffJ6RpkMHD8DW2eM59rGPIXHv7l30+bo7ihctiJL+hdUx9fjRI/PzPIbsl4GZIesIhv755x906NAB6dKlUxkhCYTOnDmD9evXq6xRzZo1YYvW/LEaI0cEo12Hjlj883J4euZG+3atcPv2ba2LZhWSJEqAw/9eQZfgJbAXcf3MD+zfh949u6N2nXpYsnQFypWvgC5fdcSpU/+al5k1YxoWLZiHfgMGYv6in5AoUSK0b9sKz549U8+fP3sWr18b0X/AYCz7dRV6ft0HP/+0GGPH/Bjp/abOmI2Nm7eZpzx588GW2eM5psUxJPr06oEzp09j8vRZGDthMvb98w8GDwyK9H48hsgeaRoMSeDj5eWF4sWLq6Bn7ty5uHDhAoYMGYJs2bKhVKlSmD17tmpbZIvmzZmFOvXqo1btusiRMyf6DRiEhAkTYsWyX7QumlVYt/0YBk38HSv/tJ9fYXH9zBfMn4viJUuhecvWyJ4jBzoFdkGevHmxeOF88y/6BfPmok279ihXviI+8cyNIcEjcOvmTWzauEEtU6JUaXw7NBjFS5RExkyZULZ8BQQ0b4mNG9ZFer8UKVLCPXVq8+Ts7AxbZo/nmBbH0NkzZ7B9218YMHgIvL19ULBQYfT+ph/W/LEKN2/esHg/HkP2x8DMkLbB0KRJk9CoUSMVAK1YsQKfffYZHBwsi+Th4YEZM2bA1kgVxfFjR+FfrLh5nmybv39xHDq4X9OykfV85ocOHIC/fzGLeRLUyHxx5fJlhITcgp//23UmS5YMXt4+MR5HDx88QIoUKSLN79ypPcqWKoaAJg2xedNG2DJ7PMe0OoYOHtyPZMmTI19+L/MyfsWKq/eOWGXEY8gOGeJ5sgGajkB96tSpdy7j4uKCgICAaJ+XNG/4VK8wOiZAggQJoKXQu6F49eoV3NzcLObL43PnOL6SPXqfzzwkJARubu6Rlg+5HfLm+bBOBG7ukdcpr43KxQsXsGjhfHTr0cs8L3HixOjeszcKFCwIB4MBG9avQ5fAjhg9doLKJNkiezzHtDqGboeEIFWqVJHaciZPkQK337yexxDZM81vx3H37l2V+Tl+/Lh6nC9fPrRs2TLKX7VRCQ4OxqBBgyzm9e0/AP2CBsZLeYms2Y0bN9ChXWtUqlIVdb+ob57v6poKzZq3MD/O7+WNW7duYvasGTb7RUYfF48h+2Wwkaosu60mk4bTOXLkwI8//og7d+6oSdoRybzYthPq06cP7t27ZzH17NUHWnNN6QpHR8dIjfDksbu75a84sg/v85nL/NtvfsFbLP/ml767e+qweSHvXqe07Wjdohl8fH0RNPDbd5bXy8sHly5ehK2yx3NMq2PIzd1dXX/De/nyJe7fuwe3N6+PCo8hsheaBkNdu3bF559/jvPnz2PZsmVqOnfunGo71KVLl1itQ6rDkidPbjFpXUUmnF1cVC+L3bt2mue9fv0au3fvhLePr6ZlI+v5zL0LFMDuXbss5u3auUPNFxkyZlRfZrIOk4cPH+LwoYMW65SMUKvmzZA3bz4MHhIcqe1dVE6eOK4awNoqezzHtDqGfHx88eD+fRw7esS8zJ7du9R7e3lHP+QFjyH7YGADam2rySQzNG3aNFU3bS6QkxO+/vprFC5cGLauaUAL9P+mF/Lly69SyvPnzcGTJ09Qq3YdrYtmFZIkckGOTG8vpFkzuMH7kwwIvf8Yl66Hwh4/8759voaHRxp07tpdPW7cpBlaNW+KObNnonTpMqqb79EjR9B/4GD1vFxIGjdthmlTJiFL5izqi03Gi0nt4YHyFSqaA6HWzZsiXfr06NazF0LD/cI3fVGtXLFc9frJnSePerxxw3qsWP6L6j1ky+zxHNPiGJJeaCVKlsKgAf3RL2gQXr58geCh36JqtU/VewkeQ2TPNA2GJItz8eJF5M6d22L+pUuXVG8HW1e1WnX1xSQD4EkjRs/ceTBxynSVkiagYN4sWDe9s/nxiB511b/zVu5C2wFh3YLt7TO/fu0aHAxvszYFfAsieMRIjB87GuNGj0LmLFkxetwE5Mr1iXmZFq3aqIuzjPny4MF9+BYspNZpyoDu2rEdFy9eUFPl8qUtynPw6Enz31MnT8TVa1fh5OiIrNmyY8TIH1XbIltmj+eYFseQCB4+UgVAbVsFqMxihUqV0btPP4uy8RiyTwbbSN7EK4NRBqHQSGBgIJYvX46RI0eqsYbE9u3b0bNnT9StWxejR49+r/U+ffmBC2qHXIt00roIVi307/FaF4GIdCzhR0xV5OzxR7yu//TIarB2mmaGJAiSFK7cckMa60lcJl3p27dvj++++07LohEREemCgakhbYMhCXzkRq3SPV5uvyGkJ5mMZ0FERETxz8BY6OMHQ3JDVrnFhrQXkr9jkjRpUjXu0JdffhnrcYeIiIiIrDoYkqDGlJJ7V4AjI0tPnjxZtSNauXLlRyohERGRfhiYGvr4wdCsWbOi/Ds6x44dQ5EiReK5VERERKRXmt+O4108PT2xY8cOrYtBRERklwxMDGk7AnVsyFDpPj4+WheDiIiI7JTVZ4aIiIgo/jg4MDVk9ZkhIiIiovjEzBAREZGOGZgYYjBERESkZwZGQ6wmIyIiIn1jZoiIiEjHDEwMMTNERERE+sbMEBERkY4ZmBpiZoiIiIj0jZkhIiIiHTMwM8TMEBEREekbM0NEREQ6ZmBiiMEQERGRnhkYDbGajIiIiPSNmSEiIiIdMzAxxMwQERER6RszQ0RERDpmYGqImSEiIiLSN2aGiIiIdMzAxBAzQ0RERKRvzAwRERHpmIGpIWaGiIiISN+YGSIiItIxAxNDDIaIiIj0zMBoiNVkREREpG/MDBEREemYgYkhBkN6dWfPeK2LYNVciwZqXQSrFrpnrNZFICL6YBgMERER6ZiBqSG2GSIiIiJ9Y2aIiIhIxwxMDDEzRERERPrGzBAREZGOGZgaYjBERESkZwbGQqwmIyIiIn1jZoiIiEjHDEwNMTNERERE+sbMEBERkY4ZmBliZoiIiIj0jZkhIiIiHTMwMcTMEBEREekbM0NEREQ6ZmBqiMEQERGRnhkYC7GajIiIiPSNmSEiIiIdMzA1xMwQERER6RszQ0RERDpmYGKImSEiIiLSN2aGiIiIdMyBqSFmhoiIiEjfmBkiIiLSMQMTQwyGiIiI9MzAaIjVZERERKRvDIaIiIh0zMEQv1NcTZgwAVmzZkXChAnh5+eHPXv2xLj83bt30bFjR6RLlw4JEiTAJ598gtWrV8dtH8BKvHz5Ehs2bMCUKVPw4MEDNe/q1at4+PCh1kUjIiKij2DJkiXo1q0bBgwYgH379sHHxwdVqlTBzZs3o1z++fPnqFSpEs6fP4+lS5fi5MmTmDZtGjJkyGB7bYYuXLiAqlWr4uLFi3j27JnasGTJkmH48OHq8eTJk7UuIhERkV0yWFGboVGjRqFNmzZo0aKFeizf/6tWrcLMmTPRu3fvSMvL/Dt37mDHjh1wdnZW8ySrFFdWkRnq3LkzChcujNDQUCRKlMg8v3bt2ti4caOmZSMiIqL3J0mN+/fvW0wyL6osz969e1GxYkXzPAcHB/V4586dUa575cqVKFasmKomS5MmDfLnz49hw4bh1atXthcM/fXXX+jXrx9cXFws5kt0d+XKFc3KRUREZO8MhvidgoODkSJFCotJ5kUUEhKighgJasKTx9evX4+y7GfPnlXVY/I6aSfUv39//PDDDxgyZIjtVZO9fv06yiju8uXLqrqMiIiIbFOfPn1UO6DwpKHzh4ofPDw8MHXqVDg6OqJQoUIqifL999+rdkc2lRmqXLkyRo8ebVF/KQ2nZUOqV6+uadmIiIjsmSGe/5PAJ3ny5BZTVMGQu7u7Cmhu3LhhMV8ep02bNsqySw8y6T0mrzPJkyePyiRJtZtNBUOS0tq+fTvy5s2Lp0+folGjRuYqMmlEbcsWL1yAapXKo4ivFxr/7wscPnQItm7xogWoVrk8ihb0QpOGX+Dw4Zi3ad3aP1CrRlW1fL3aNfDX1i0WzxuNRkwcPwYVy5aEXyFvtGvdHBcunLdYRt6vQH5Pi2nm9Knm569cuRzpeZkOHTwAa9Sufimc+H0AQnf+gK1zuqFwvszRLuvk5IA+bari6K9Bavndi3uhUvE8FsskTZwA3/eog5OrBuLOjpH4c1ZXFMob/Tpt6ZyQ46fmZ1XV8nVrRX38TBg3BhXKlETRgt5o2yry8XPv7l30+bo7ihctiJL+hTGg/zd4/OiRxfHjk88z0mStx4/er0Efmt73kYOVdK2XpjKS2QnfVlgyP/JY2gVFpUSJEjh9+rRazuTff/9VQVLEpjcx7gNYgYwZM+LgwYP45ptv0LVrV/j6+uK7777D/v37VfrLVq35YzVGjghGuw4dsfjn5fD0zI327Vrh9u3bsFVr/1iNH2Sb2nfEop+X4xPP3OjQrhXuRLNNB/bvU19CtWrXw+KfV6Bc+QroGtgRp0/9a15m9sxpWLhgHvoGDcS8hT+pRvSyzogN7Dp0CsSGzdvMU8NGTSK935Tpsy2WyZM3H6xNvcq+GN6tNoZOXYNijb7HoVNXsHJCB6R2TRrl8gM7fIbWdYuj24il8K03DNOXbseSka3g45nRvMykoIYo7+eJlv3noXCD77Bh1wmsmtQR6VOngC2fE3L89O7ZHbXr1MOSpWHHT5evOuJUuONn1oxpWLRgHvoNGIj5i8KOn/ZtLY+fPr164Mzp05g8fRbGTpiMff/8g8EDgyK939QZs7Fx8zbzZI3Hj96vQR8a95F1keo06Ro/Z84cHD9+HO3bt8ejR4/MvcuaNWumqt1M5HnpTSYdsSQIkp5n0oBaGlTHhVUEQ5INcnJyQpMmTTBixAhMnDgRrVu3tuhZZovmzZmFOvXqo1btusiRMyf6DRikBpFasewX2Kp5c8NtU46c6Bf0ZpuWR71NC+fPRfESpdC8ZWtkz5EDHb/qgjx582LxwvnmX/UL5s1Fm7btUa58RRVcfTtsBG7dvIk/N26wWFfiJEng7p7aPCVKnDjS+6VImdJiGVNXS2sS2LgcZi3fgXkrd+PEuev4auhPePL0OQJq+ke5fKNPi2DEzPVYu/0Yzl+5jWlLt6m/Ozctp55PmMAZtcr7oO+YX7F93xmcvRSCoVP+wJnLIWjzRUnY8jmxQI6fkm+Pn06B0Rw/7d4eP0OCw46fTW+On7NnzmD7tr8wYPAQeHv7oGChwuj9TT+s+WMVbt60TMenSJES7qlTmydrPH70fg360LiPwpqmxOcUFw0aNMDIkSMRFBSEAgUK4MCBA1izZo25UbUMwXPt2jXz8pkyZcLatWvx999/w9vbG4GBgSowiqobvtUHQ5L9CQgIwPr16y1SXbbsxfPnOH7sKPyLFbfoIujvXxyHDu6HLXrxImyb/Pwtt8kvhm2Saga/COnNYsVLmqsfrly+jJCQW/ALt5+k0byXtw8ORljnrOnTUKaEHxrUq4XZM6ergToj6tKpPcqVLobmTRti85/WNyyDs5MjfPNkwqbdJ83z5AtdHhf1zhbla1ycnfD02QuLeU+evUDxAtnV306ODnBycsTT55b74+nT5+ZlbPWcOHTgAPz9LY+f4iVKqvkWx49/5OPHtE45jpIlT458+b3My8jxJu8dsTqkc6f2KFuqGAKaNMTmTdZ3/Oj9GvShcR9Zp06dOqnxByW7u3v3bjUKtcnmzZsxe/Zsi+WlCm3Xrl0qsXLmzBlVyxS+DZHN9CaTdNjChQtRs2ZN1eVOIkPJEsnYQ+8iOytidYrRMcEHa6n+vkLvhqoecm5ubhbz5fG5c2dhi2QcqOi26Xw02yRdJd3c3C2Xd3dT88Oev2VeR3ip3Nxw+80yolHjpsidJ686Pg4e2I+xY0ap1/b4OixdmjhxYnTv2RsFfAuqXyIbN6xT1XE/jp2AsuUqwFq4p0yiApebd8JGWTeRx55ZLbuTmmzYeRyBTcphm2R9LoegXNFPULOcDxwdw37LPHz8DLsOnkOf1lVw8ux13LjzAPWrFoKfdzacuRS2f63B+5wTUR4/bm4IuR3h+HGPvE7TMSbHUapUqSyel0x08hQpcPvN683HT8GCcDAYsGH9OnQJ7IjRcvyUt57jR+/XoA+N+yiMwXrGXNSMVQRDMriiTHIbDhkvYNGiRfD390f27NlVUCTpsujIWAWDBg2ymNe3/wD0Cxr4EUpOH0vTgLD6YiFVIVJ9MWTwAAR26a4aybm6prJYJr+Xt6oqmTNrhlUFQ++jx/fLMLH//3BwWV+VRZKAaO5vuxHw+dtfS9JWaMqARji7bghevnyFAycu46e1e1UWit5Njp9mzSMcP7duYrYcPzYaDBGRjVWThU9vSyOpdevW4dChQ0iSJEmkQCciaUh17949i6lnr7eNq7TimtJVpekiNsKTx9J90Ba5usZ9m2T+7Te/4s3Lh7xdXtr1mNYRnjTIdothP+X39lHVZFevXI5xmUsXL8KahNx9pIIVj1SW42fJ4+u3H0Tzmoeo33063Er0gOenA+FTZygePX6Gc1fe7rNzl0NQuc1YuBXvgVzVB6BUsx9Uldy5y9bTCPR9zokojx9Z3i3C8RMS/TrlOJIGluHJsXP/3j24vXl9VLy8rO/40fs16EPjPgrjYDDE62QLrCoYkvq+n376CbVq1ULBggXVBaxnz54xvia24xd8bM4uLqonyu5db4cQl/ZQu3fvhLePr6Zle1/OzmHbtGe35TbtiWGbvH0KYM+uXRbzdu3coeaLDBkzqi+0PeH2k4wxdfjQQfjEsJ9Onjiu6vZTpXKLcRlpBGtNXrx8hf3HL6mqLhOp1itX1BN7Dp2L8bXPnr/E1Vv3VFf7WhV88PuWw5GWefz0Oa6H3EfKZIlQsVjuKJexpXPCu0AB7I7q+ClgefzIOiIeP6Z1ynH04P59HDt6xLzMnt271Ht7eXvb1PGj92vQh8Z9RFZVTSYtwaXN0IoVK1Rdfr169VR2qHTp0rBlUm3T/5teyJcvv0q7z583B0+ePEGt2nVgq5o2a4H+fXshr2xTfm8smB+2TTVrhW1Tvz5fw8MjDQK7dlePGzVphtYtmmLu7JkoVbqM6sYqX0pBAwebA4HGTZth2tRJyJwlCzJkyIgJ48cgtYcHylUIuz+NtBE6fPggihTxV9lCaRArXWGrf/a5avchVv66XFWd5c4dNv7Oxg3r8evyXxA0KG5Dsn8MYxf8iWmDmmDvsUv45+gFdGpUFokTuWDuyt3q+emDm+DqzXsIGv+belwkfxak90iBgyevIINHCvRtV0392ho1+20DXwl8ZF/+e/4GcmRKjWFdauLf8zcxd6VlIGHt50TfN8dP5zfHT+MmzdCqeVPMmT0Tpd8cP0ePHEH/iMfPlEnIkjmLCo5kzCE5fsq/OX6kF1qJkqUwaEB/1fvx5csXCB76LapW+1S9l1i54s3xk+ft8SM9JKUHmi2zx2vQh8Z9xDZDVhMMSXuhzz77DHPnzlUjTtt6d1aTqtWqI/TOHUwcP1Y19PTMnQcTp0yPsfrH2lWRbQq9g0nht2ny222SLo8Gh7cJR2nQPGz4SEwYNxrjxoxC5ixZVaPmnLneZkaat2yjLj7fDgzCgwf34VuwkFqnKcMnbYJkfKPJE8er3h8SMDVp2tyijZCYNnkirl67CidHR2TNlh3DR/6ISpWrwtosXbcf7q5JEdS+OtK4Jcehk5dRs9Mkc6PqTGld8fq10bx8AhdnDOjwGbJlcFONpaVbfat+83Dv4RPzMimSJsLgTjWQIU1K3Ln3CL9uOogBE37Hy5evbeqcuH7tGhwMlsdP8IiRGD92NMaNDjt+Ro+bgFzhjp8WrcKOn8Hhj58pb48fETx8pAqA2rYKUBnFCpUqo3effhZlmxrh+Bkhx08V6zt+9H4N+tC4j6zrrvVaMRilRabGpOH0h7wH2dPIPa4pAu0/deuWyi9Q6yJYtdA9Y7UuApFdS/gRUxX1Zu2L1/UvbVEQ1s4qMkMSCEn3RqkmkxEnhdyaQ7rax3WsACIiIoo9AxND1hEMyX1FpHpM7kXm6elp7jIvI0vK0No5cuTQuohERERkp6yiN5kMny0Bz6VLl7Bv3z41yZDb2bJlU88RERFR/HBg13rryAxt2bJFDaUdfpRYGQFUbtYqd6QlIiIisutgSHp9SCPqiGS8EOlJRERERPHDoHUBrIBVVJNJt/q2bduqG7JJ5zaZJFP05Zdf4vPPP9e6eERERGTHrCIYGjt2rGozJHeeTZgwoZqKFy+OnDlzYvTo0VoXj4iIyK7HGTLE42QLrKKaLGXKlPj1119VrzJT1/o8efKoYIiIiIjij4NtxCv2GQx169Ytxuf//PNP89+jRo36CCUiIiIiPdIsGNq/f3+slrOVFBsREZEtMvB7VrtgKHzmh4iIiEjXbYaIiIhIGwYmhqyjNxkRERGRVpgZIiIi0jEDU0OxC4ZWrlwZ6xVykEQiIiKyu2CoVq1asY4uX7169V/LRERERB+JAxNDsQuGXr9+Hf8lISIioo/OwGoyNqAmIiIifXuvBtSPHj3Cli1bcPHiRTx//tziucDAwA9VNiIiIopnBq0LYIvBkIwcXb16dTx+/FgFRalSpUJISAgSJ04MDw8PBkNERERk39VkXbt2RY0aNRAaGopEiRJh165duHDhAgoVKoSRI0fGTymJiIgoXjgYDPE62WUwdODAAXTv3h0ODg5wdHTEs2fPkClTJowYMQLffPNN/JSSiIiIyFqCIWdnZxUICakWk3ZDIkWKFLh06dKHLyERERHFG4Mhfie7bDPk6+uLv//+G7ly5UKZMmUQFBSk2gzNmzcP+fPnj59SEhEREVlLZmjYsGFIly6d+nvo0KFwdXVF+/btcevWLUydOjU+ykhERETxOM6QIR4nu8wMFS5c2Py3VJOtWbPmQ5eJiIiI6KPhjVqJiIh0zGAbyRvrCoayZcsWY9rr7Nmz/7VMRERE9JE4MBqKezDUpUsXi8cvXrxQAzFKdVnPnj0/ZNmIiIiIrC8Y6ty5c5TzJ0yYgH/++edDlImIiIg+EgMTQx/uRq3VqlXDL7/88qFWR0RERGRbDaiXLl2q7lNGREREtsPA1ND7DboYfscZjUZcv35djTM0ceLED10+IiIiIusKhmrWrGkRDMmtOVKnTo2yZcsid+7csAZGo9YlsH78IRCz0D1jtS6CVXMtGqh1EawejyHSXXsZPQVDAwcOjJ+SEBEREdlCQCh3qr9582ak+bdv31bPERERke0w8HYccc8MSRuhqDx79gwuLi4fokxERET0kTjYRrxiHcHQ2LFh9d8S5U2fPh1JkyY1P/fq1Sts3brVatoMEREREX3wYOjHH380Z4YmT55sUSUmGaGsWbOq+URERGQ7HJgZin0wdO7cOfVvuXLlsGzZMri6usZnuYiIiIiss83Qn3/+GT8lISIioo/OYCONnK2qN1ndunUxfPjwSPNHjBiBL7744kOVi4iIiMg6gyFpKF29evUo700mzxEREZFttRlyiMfJLoOhhw8fRtmF3tnZGffv3/9Q5SIiIiKyzmDIy8sLS5YsiTR/8eLFyJs374cqFxEREX0EBkP8TnbZgLp///6oU6cOzpw5g/Lly6t5GzduxMKFC9Wd64mIiMh2ONhKxGJNwVCNGjWwYsUKDBs2TAU/iRIlgo+PDzZt2oRUqVLFTymJiIiIrCUYEp9++qmahLQTWrRoEXr06IG9e/eq0aiJiIjINjhoXQBb3gfScywgIADp06fHDz/8oKrMdu3a9WFLR0RERGRNmaHr169j9uzZmDFjhsoI1a9fX92gVarN2HiaiIjI9hjYZCj2mSFpK+Tp6YlDhw5h9OjRuHr1KsaNGxe/pSMiIiKylszQH3/8gcDAQLRv3x65cuWK31IRERHRR+HA1FDsM0Pbtm3DgwcPUKhQIfj5+WH8+PEICQmJ39IRERERWUsw5O/vj2nTpuHatWto166dGmRRGk+/fv0a69evV4FSXL18+RKDBw/G5cuX4/xaIiIi+u8MHHQx7r3JkiRJgpYtW6pM0eHDh9G9e3d899138PDwwOeffx6ndTk5OeH7779XQRERERF9fA68N9l/G15AGlTL3eolsyNjDb0P6ZK/ZcuW/1IMIiIioo876GJEjo6OqFWrlpriSu5237t3b5VlkvZIknkKL67ZJiIiIoo9B1upy7L2YOi/6NChg/p31KhRkZ4zGAwc0ZqIiIjsOxiSBthERESkDQMTQ9Z1S5KnT59qXQQiIiLSGc2DIakG+/bbb5EhQwYkTZoUZ8+eVfP79++vbvtBRERE8ceBvcm0D4aGDh2q7ncmvdJcXFzM8/Pnz4/p06drWjYiIiKyf5oHQ3PnzsXUqVPRuHFj1SvNxMfHBydOnNC0bERERPbOEM//2QLNG1BfuXIFOXPmjLJh9YsXLzQpExERkV442Ea8Yt+Zobx58+Kvv/6KNH/p0qXw9fXVpExERESkH5pnhoKCghAQEKAyRJINWrZsGU6ePKmqz37//Xeti0dERGTXHJgZ0j4zVLNmTfz222/YsGGDGn1agqPjx4+reZUqVYI1WLxoAapVLo+iBb3QpOEXOHz4UIzLr1v7B2rVqKqWr1e7Bv7aanm7EaPRiInjx6Bi2ZLwK+SNdq2b48KF8xbLyPsVyO9pMc2cPhX2ZvHCBahWqTyK+Hqh8f++wOFDMe9bPdLjPmpXvxRO/D4AoTt/wNY53VA4X+Zol3VyckCfNlVx9Ncgtfzuxb1QqXgei2WSJk6A73vUwclVA3Fnx0j8OasrCuWNfp229pnLNafmZ1XV8nVrRX3NmTBuDCqUKYmiBb3RtlXka05gxy9RpUJZtQ5Z7pvePXHz5g3z81euXIZPPs9I06GDB2Dr9HiOkZUFQ6JUqVLqzvc3b97E48eP1U1gK1euDGuw9o/V+GFEMNq174hFPy/HJ5650aFdK9y5fTvK5Q/s34c+X3dHrdr1sPjnFShXvgK6BnbE6VP/mpeZPXMaFi6Yh75BAzFv4U9IlCiRWuezZ88s1tWhUyA2bN5mnho2agJ7suaP1Rgp+7ZDRyz+eTk8PXOjfbtWuB3NvtUjPe6jepV9MbxbbQydugbFGn2PQ6euYOWEDkjtmjTK5Qd2+Ayt6xZHtxFL4VtvGKYv3Y4lI1vBxzOjeZlJQQ1R3s8TLfvPQ+EG32HDrhNYNakj0qdOAVv/zOWa07tnd9SuUw9LloZdc7p81RGnwl1zZs2YhkUL5qHfgIGYvyjsmtO+reU1p0hRf3w/ajR+XbUGP4wei8uXLqFH186R3m/qjNnYuHmbecqTNx9smR7Psaju9mCIx8kWWEUwZM3mzZ2FOvXqo1btusiRIyf6BQ1CwoQJsWL5L1Euv3D+XBQvUQrNW7ZG9hw50PGrLsiTNy8WL5xv/oW2YN5ctGnbHuXKV1TB1bfDRuDWzZv4c+MGi3UlTpIE7u6pzVOixIlhT+bNCbdvc+ZEvwFv9u2yqPetHulxHwU2LodZy3dg3srdOHHuOr4a+hOePH2OgJr+US7f6NMiGDFzPdZuP4bzV25j2tJt6u/OTcup5xMmcEat8j7oO+ZXbN93BmcvhWDolD9w5nII2nxRErb+mS+Qa07Jt9ecToHRXHPavb3mDAkOu+ZsCnfNaRrQHN4+BZA+fQYU8C2Ilq3aqKxPxI4sKVKkhHvq1ObJ2dkZtkyP5xhZYTDk6uqKVKlSRZrc3NzUQIxlypTBrFmzNCnbixfPcfzYUfj5FzfPc3BwUI8PHdwf5Wvk4uFXrJjFvGLFS5pTyVcuX0ZIyC34FXu7zmTJksHL2wcHI6xz1vRpKFPCDw3q1cLsmdPx8uVL2IsXz8P2rX8xy33rH8O+1Rs97iNnJ0f45smETbtPmufJl7k8LuqdLcrXuDg74ekzyy/sJ89eoHiB7OpvJ0cHODk54ulzy/Pn6dPn5mVs+TM/dOAA/P0trznFS5RU8y2uOf6RrznRrfPe3btYteo3+BTwjRTsdO7UHmVLFUNAk4bYvGkjbJkez7GoOHDQRetoQC0DL8rd64sWLarm7dmzB2vWrEHHjh1x7tw5tG/fXgUCbdq0ifR6SfNGrF567ZAACRIk+M9lCw0NVSNkS2AWnjw+fy5spOyIQkJC4Obmbrm8u5uaH/b8LfM6wkvl5obbb5YRjRo3Re48eZEiRQocPLAfY8eMUq/t8XUf2IPQu9Hv23PR7Fu90eM+ck+ZRAUuN+88sJgvjz2zponyNRt2Hkdgk3LYJlmfyyEoV/QT1CznA0fHsN96Dx8/w66D59CndRWcPHsdN+48QP2qheDnnQ1nLoWdj7b8mUd5zXFzQ8jtCNcc98jrNF2XTH784XvVRvLpkycqSzRu4mTzc4kTJ0b3nr1RoGBBdZfzDevXoUtgR4weOwFly1eALdLjOUZWGgxJ+6AhQ4bgyy+/tJg/ZcoUrFu3Dr/88gu8vb0xduzYKIOh4OBgDBo0yGLeN/0GoF/QQNiypgEtzH9LWlt+nQ0ZPACBXbpbjNRNpHc9vl+Gif3/h4PL+qoskgREc3/bjYDP/czLSFuhKQMa4ey6IXj58hUOnLiMn9buVVkoeqt5y1aoXbcerl29iskTx6Nfn14YN3GKavfh6poKzZq/vS7l9/LGrVs3MXvWDJsNhiiMwUayN3YdDK1duxbDhw+PNL9ChQro3r27+rt69ero3bt3lK/v06cPunXrFikz9KGq8GRU7IgN6eSxu7vlLzETmX/7zS8y8/Ihb5eXtj+mdaRO7WFeRhpkS9ATnfzePio7dvXKZWTNZl2p/ffhmjLu+1Zv9LiPQu4+UsGKR6pkFvPl8fXbD6J5zUPU7z4dCVyc4JYiCa7euochgZ/j3JW3++3c5RBUbjMWiRO6IHnShLgech/zvmuOc5dv2/xnHuU1R5Z3i3DNCbG85sgynrktrzkS8MiUNWs2ZM+eA5UrlFFV/FJdFhUvLx/s2rEDtkqP51hUHBgNad9mSNoHSTf6iGSePCcePXqk6rijItVhyZMnt5g+RBWZcHZ2UT0l9uzeaZ4nYyHJY2+fqC8Oklres2uXxbxdO3eo+SJDxozq4rRn19t1Pnz4EIcPHYRPNOsUJ08cV3XZqVJZpnNtlbNL2L7dvcty3+6OYd/qjR730YuXr7D/+CVV1WUiWYlyRT2x59C5GF/77PlLFQhJV/taFXzw+5bDkZZ5/PS5CoRSJkuEisVyR7mMrX3m3gUKYHdU15wCltccWUfEa05Mx5G8r3j+/HmM1yVpRG2r9HiOkZVmhuTu9NIm6M8//zS3Gfr777+xevVqTJ4cVl8t3e6lIbUWmjZrgf59eyFvvvzIn98bC+bPwZMnT1CzVh31fL8+X8PDIw0Cu4ZlsRo1aYbWLZpi7uyZKFW6jOq2eezoEQQNHGy+sDdu2gzTpk5C5ixZkCFDRkwYPwapPTxQrkJFtYy0ETp8+CCKFPFXYy9Jw2rp+ln9s8+RPIX1dQX+L1WB/b/phXyyb728MX9e2L6tVTts35I+99HYBX9i2qAm2HvsEv45egGdGpVF4kQumLtyt3p++uAmuHrzHoLGh/2IKpI/C9J7pMDBk1eQwSMF+rarpn7pjpr9tnGvBD5y7v17/gZyZEqNYV1q4t/zNzF3pWUQYQufed8315zOb645jZs0Q6vmTTFn9kyUfnPNOXrkCPpHvOZMmYQsmbOo4EjGHJJrTvk315xDhw7i6OHD8C1YCMlTJMelixcxcdwYZMqU2ZwVWrliuaquz50nbAynjRvWq161AwYPgS3T4zkWkQMTQ9oHQ9IOSG7JMX78eDX6tPD09MSWLVtQvHhYC39TdZkWqlSrjtDQO5g0fqxqiOiZOw8mTp4Otzcp1GvXrsHg8DbBJl1Shw0fiQnjRmPcmFHInCUrfhw7ATlzvf2l27xlG3WyfTswCA8e3FcXIFmnKaMlbYJkfCOps5feDhIwNWna3KIdkT2oKvv2zh1MDL9vp7zdt6TPfbR03X64uyZFUPvqSOOWHIdOXkbNTpPMjaozpXXF69dG8/IJXJwxoMNnyJbBTTWWlm71rfrNw72HT8zLpEiaCIM71UCGNClx594j/LrpIAZM+B0vX4ZlP2zpM79+7RocDJbXnOARIzF+7GiMGx12zRk9bgJyhbvmtGgVds0ZHP6aM+XtNSdRwoTYuGEdJk0YhydPHqtsT4mSpTCiXQeLNopTJ0/E1WtX4eToqKrrR4z8EZWqVIUt0+M5Zu0mTJiA77//HtevX1c3bR83bpw5WRKTxYsXo2HDhmow5xUrVsTpPQ1GaXFoZ57w/q7vxCpi+i9ciwZqXQSrF7pnrNZFIBuW8COmKsZtj7kK+r/6qkTUw2JEZcmSJWjWrJmqGfLz88Po0aPx888/q9t0eXi8bfMW0fnz51GyZElkz55dNbGJazCkeWbIVEd7+vRpNQK1qZ7apHTp0pqVi4iIiD6eUaNGqRqjFi3CakIkKFq1ahVmzpwZbUcqGR6hcePGqme53Pj97t27cX5fzYOhXbt2oVGjRrhw4YLqFhue1HXLRhIREVH8cED8VhVENR6gVNFG7OwkjfX37t2reomby+bggIoVK2LnzreN3CMaPHiwyhq1atVKBUM22ZtMxhcqXLgwjhw5gjt37qiBDk2TPCYiIiLbFRwcrAYQDj/JvIhkEFBJgKRJYznAqjyW9kPRjVU4Y8YMTJs27T+VUfPM0KlTp7B06VLkzJlT66IQERHpjiGe25BGNR7ghxgC58GDB2jatKkKhP7ruFCaB0PSQEraCzEYIiIisr+u9QmiqBKLigQ0MgjmjRs3LObL47Rp00Za/syZM6rhdI0aNczzTO2OnZycVKPrHDly2EYw9NVXX6mu85IC8/LyinRTQLkVBxEREdk3FxcXFCpUCBs3bkStWrXMwY087tSpU6Tlc+fOjcOHLQdO7devn8oYjRkj42TF/nY7mgdDdevWVf+2bNky0nNsQE1ERKSf23F069YNAQEBqi2xjC0kXevlLhSm3mXS7T5DhgyqzVHChAmRP39+i9enTJlS/RtxvtUHQ3JXeiIiIqIGDRrg1q1bCAoKUjVGBQoUwJo1a8yNqi9evKh6mH1oVjPo4rFjx9RGhr8PjmSGwtcFxhYHXXw3K/ohQDaIgy6+GwddJFsZdHHa7gvxuv42fllg7TTPDJ09exa1a9dW9X4S/JhiM/lbsJqMiIiI4pPm4wx17twZ2bJlU6NPJ06cWI03tHXrVlVfuHnzZq2LR0REZPdthhzicbIFmmeGZFTJTZs2qS51Ug8o3erk/iLSOCowMBD79+/XuohERERkxzTPDEk1WLJkydTfEhBdvXpV/Z0lSxY1RgARERHFH4MhfidboHlmSLq/HTx4UFWVyQCMI0aMUGMNTJ06Vd19loiIiOw4K2IFNA+GZIAkGUPAdLO1zz77DKVKlYKbmxuWLFmidfGIiIjIzmkeDFWpUsX8t9yS48SJE+oGra6uruYeZURERBQ/DPyu1T4YikqqVKm0LgIRERHphFUGQ0RERPRxGLQugBVguykiIiLSNWaGiIiIdMyBbYaYGSIiIiJ9Y2aIiIhIxwxaF8AKMBgiIiLSMQOjIVaTERERkb4xM0RERKRjBqaGmBkiIiIifWNmiIiISMcctC6AFeA+ICIiIl1jZoiIiEjHDGwzxMwQERER6RszQ0RERDpm0LoAVoCZISIiItI1ZoaIiIh0zMA2Q/YZDPFzJYpfoXvGal0Eq+fq31XrIli12ztGaV0EK/fxvsgcPto7WS/uAyIiItI1u8wMERERUewYWJ3CzBARERHpGzNDREREOmbQugBWgJkhIiIi0jVmhoiIiHTMwNQQM0NERESkb8wMERER6ZgDWw0xGCIiItIzA2MhVpMRERGRvjEzREREpGMGVpMxM0RERET6xswQERGRjhmYGGJmiIiIiPSNmSEiIiIdc2CbIWaGiIiISN+YGSIiItIxAxNDDIaIiIj0zMBgiNVkREREpG/MDBEREemYgQ2omRkiIiIifWNmiIiISMccmBhiZoiIiIj0jZkhIiIiHTOwzRAzQ0RERKRvzAwRERHpmIGJIW0zQy9evECOHDlw/PhxLYtBRESk62oyQzz+Zws0DYacnZ3x9OlTLYtAREREOqd5m6GOHTti+PDhePnypdZFISIi0mXXeod4nGyB5m2G/v77b2zcuBHr1q2Dl5cXkiRJYvH8smXLNCsbERER2T/Ng6GUKVOibt26WheDiIhIlww20q7HroOhWbNmaV0EIiIi0jHN2wxZm8ULF6BapfIo4uuFxv/7AocPHYpx+XVr/0DNz6qq5evWqoG/tm6xeN5oNGLCuDGoUKYkihb0RttWzXHhwnmLZe7dvYs+X3dH8aIFUdK/MAb0/waPHz0yP3/lymX45POMNB06eAB629+2gMeQ9e2faVMmoVnj/8GvkI/aP1GJav/8sXoVrFG7L0rgxMr+CN0+Altnd0HhfJmjXdbJ0QF9WlfG0RV91fK7F/ZApWK5LZZxcDAg6MtqOP5rP9zZNlwt27tVJdiKJYsWoHqV8vAr5I2mjerjyOGYj6n1a9egdo1qavkvakc+pjZuWIf2bVuibEk/+HrlxskTkXs8DxkUhBrVKsG/sA/KlS6GLl91wLmzZ2GrXesN8TjZAqsIhpYuXYr69evD398fBQsWtJg+pjV/rMbIEcFo16EjFv+8HJ6eudG+XSvcvn07yuUP7N+H3j27o3adeliydAXKla+ALl91xKlT/5qXmTVjGhYtmId+AwZi/qKfkChRIrRv2wrPnj0zL9OnVw+cOX0ak6fPwtgJk7Hvn38weGBQpPebOmM2Nm7eZp7y5M0HWxbX/W0LeAxZ5/6RYTwqVa6KLxo0jLF8g4cEW+yf8hUqwtrUq1QAw7vWwtBpa1GsyQ849O9VrBzXDqldk0a5/MAO1dG6TjF0+34ZfOsPx/RfdmDJ9y3g45nBvEz3gApoU684uo5YhgJffId+435Ht2bl0aFBKVi7tWtW44fvv0O7Lzti4U/L8MknnujQrjXuRHdMHdiHPr26o1adelj083KULV8R3Tp3wulwx9STJ09QwLcQArv2iPZ95dwZ+O0wLPt1FSZOng4jjOjQrhVevXoVL9tJdh4MjR07Fi1atECaNGmwf/9+FC1aFG5ubjh79iyqVav2Ucsyb84s1KlXH7Vq10WOnDnRb8AgJEyYECuW/RLl8gvmz0XxkqXQvGVrZM+RA50CuyBP3rxYvHC++Rfrgnlz0aZde5QrXxGfeObGkOARuHXzJjZt3KCWOXvmDLZv+wsDBg+Bt7cPChYqjN7f9MOaP1bh5s0bFu+XIkVKuKdObZ5kaAJbFtf9bQt4DFnf/hEdOgWiaUBz5Mr1SYzlS5Y8ucX+SZAgAaxNYOOymLViJ+b9tgcnzt3AV8E/48nT5wj43C/K5RtVL4wRszZg7fbjOH/lNqb9sgNrdxxH58Zlzcv4e2fF71uOYM32Y7h4LRTLNx7Ext0nY8w4WYv5c2ejTt0vUFOOqRw50TdoEBImSogVy6M+phbNn4fiJUoioEUrZM+eAx2/6hx2TC1aYF7msxo10a59R/j7F4v2fet+0QCFChdB+gwZVWDUsVMXXL9+DVevXoGtMcTzZAs0D4YmTpyIqVOnYty4cXBxccHXX3+N9evXIzAwEPfu3fto5Xjx/DmOHzsK/2LFzfMcHBzg718chw7uj/I1hw4ciHSyyEkm88WVy5cREnILfv5v15ksWTJ4efuY13nw4H51Ac6X38u8jF+x4uq9I1YfdO7UHmVLFUNAk4bYvGkjbNn77G9rx2PIOvdPXAwbMghlSvihUYN6WL5sqQq2rImzkyN8c2fEpt1vsxhSxk17TqGod5YoX+Pi7ISnzy2HLnny9AWKF8hufrzr0HmUK/IJcmZOrR575UqPYj7ZsW6HdQ+I++JF2DEV/vOXY8rPv1i0VcAyP/zyoljxEv+pyvjJ48dYuWIZMmTIiLRp08LWOBgM8TrZAs0bUF+8eBHFi4cdmJLefvDggfq7adOmqtps/PjxMb5eUuHh0+HC6Jggzr/oQu+GqvSmZKXCk8fnzkVdDxwSEgI3N/dIy4fcDnnz/K2wee6R1ymvFbdDQpAqVSqL552cnJA8RQrcfvP6xIkTo3vP3ihQsKA6sDasX4cugR0xeuwElC1fAbboffa3teMxZJ37J7Yke1TUzx8JEyXCzu3bMOzbQXj8+DEaN2kGa+GeMgmcnBxx807YddJEHntm9YjyNRt2nUBgo7LYtu8Mzl6+jXJFc6FmeW84Orz9LTxy9kYkT5IQB5f2xqvXRjg6GDBg4mosXrMP1iw0NOyYShXpmHLH+XPnonyNHBdRLS/nUVz9tHghRo8aiSdPHiNr1myYNG0mnJ1d4rwe0p7mwZBE0Xfu3EGWLFmQOXNm7Nq1Cz4+Pjh37lysfpUFBwdj0KBBFvP69h+AfkEDYS9cXVOhWfMW5sf5vbxx69ZNzJ41w2aDIfq4eAy9m1SLmOTJk1e1G5kza4ZVBUPvo8fI5ZjYrwEOLu2jrqlnr9zG3JV7EPB5UYt2SP+rWhDN+83HsTPX4e2ZAd93q4Vrt+5jwaq/NS2/Nav2aQ2VhQ25dQtz58xEr+5dMGveIqusXo2JQesCWAHNq8nKly+PlStXqr+l7VDXrl1RqVIlNGjQALVr137n6/v06aOq08JPPXv1iXM5XFO6wtHRMVJDTnns7m75y9RE5t9+8wvVYvk3v2Td3cNSzrdDol+nm7u7CgbDk9G479+7B7c3r4+Kl5cPLl28CFv1Pvvb2vEYss79876kqu3G9et4/vw5rEXI3Ud4+fIVPFIls5gvj6/fvh/ta+r3mAm3Ur3gWeNb+NQNxqMnz3DuyttjZlhgDYycsxE/r9uPo2euYdHqfzBu0Rb0bGHdgbKra9gxFbGxtBwzETOKJnJcRLn8exwvUiWbJUtW1XZo5KgxOHf+HDZtXB/n9ZD2NA+GpL1Q3759zbfmmDlzJvLkyYPBgwdj0qRJ73y9RODJkye3mN4nKnd2cVGN4Hbv2mme9/r1a+zevRPePr5Rvsa7QAHs3rXLYt6unTvUfJEhY0Z1sZZ1mDx8+BCHDx00r9PHxxcP7t/HsaNHzMvs2b1LvbeXt3e05ZWuntLA01a9z/62djyGrHP/vC/ZP8mTp1BtGa3Fi5evsP/EZZQr+rYhuMFgQLkiubDn0IUYX/vs+UtcvXVPdbWvVd4bv285bH4uUUIXvH5tmYl/9eq11bf3kCopdUzttjym9uzaBW+fsGMkIpm/J9zy5mMqmuVjS1VkGI2qbZzNMbAFtebVZNLYTSaT//3vf2rSQtOAFuj/TS/ky5dfVSPMnzdHpcpr1a6jnu/b52t4eKRB567d1WNJn7dq3hRzZs9E6dJlVLfho0eOoP/AweaLVOOmzdQYJ1kyZ1EXbhkPJbWHh7nLrvSQKVGyFAYN6I9+QYPw8uULBA/9FlWrfareS6xcsVz1+smdJ496vHHDetVTQnoP2bJ37W9bxGPI+vaPuHb1qsoaX7t2VbUxOXE8rGGwVM0nTpIEm//cpLIFXj4+SOCSALt2bsf0aVMQ0LwlrM3YBZsxbWAj7D12Cf8cvYBOjcogcSIXzP1tt3p++qBGuHrzHoImhI2RVCRfZqT3SIGD/15FhtQp0LdtFTgYHDBq7ibzOlf/dRS9WlbCpet3cezsNRTwzKh6rc1dGbZOa9akWXME9e2NvG+OqYVvjqmatcKOqX7f9IKHhwcCu4QdUw2bNEWbFs1UtVapUmWxds0qHDt6FP0HhB1T4t69u7h+7Rpu3rypHp8/H9b+SLJHEnxfvnQJa9euRrFiJeCaKhVu3LiuhniQH+IlS5XRZD+QjQdD4q+//sKUKVNw5swZNeZQhgwZMG/ePGTLlg0lS5b8aOWoWq06Qu/cwcTxY1XDTM/ceTBxynRz+lRODrmImBTwLYjgESMxfuxojBs9CpmzZMXocRMsuu+2aNVGnZgy5suDB/fhW7CQWmf47FXw8JHqy6ttqwAVGFaoVBm9+/SzKNvUyRNx9dpVODk6Imu27Bgx8kdUqlIVtuxd+9sW8Riyzv0j77fy1+Xmxw3q1VL/Tp81F0WK+sHZyUl1rf5++DD1C1+CpB5f90bdevVhbZauPwB316QI+rIq0rglx6F/r6DmV1Nw885D9XymtK4WWZ4ECZwxoH11ZMvghodPnqku9q2CFuDew6fmZWQMogFfVsOY3nXVeEXXQu5jxrIdGDZtHaxdlaphx9SkCeNUhwE5piZMnhbumLpqkeEqUKAghn03EhPGj8b4MT+qY2rUmPHIGe6Y2vLnJjVwqUnvnt3M7cq+7PAVXBK4YP/evVg4by7u37+vGuzLkBaz5y2K1DjbFhhsJX0TjwxGjfuO/vLLL6rnWOPGjVUAdOzYMWTPnl31Ilu9erWa4uqpZS9SIqKPztW/q9ZFsGq3d4zSughWLbHLxwtQdp+J32Fs/HKkgLXTvM3QkCFDMHnyZEybNs1iALgSJUpg3z7r7tZJRERk6wy8HYf21WQnT55E6dKlI81PkSIF7t69q0mZiIiI9MKgdQGsgIM1jDN0+vTpSPO3bdumqsuIiIiI7DoYatOmDTp37ozdu3erniFXr17FggUL0KNHD7Rv317r4hEREdk3A7vWa1JNdujQIeTPn1/1epFBE2VciAoVKqih76XKTHqBSDD01VdfaVE8IiIi0hFNgiFfX19cu3ZNjf0gVWF///03evbsqarLZMC0vHnzImnSpFoUjYiISFcMtpK+sbdgKGXKlOreYxIMnT9/XmWGZJRXCYKIiIiI7D4Yqlu3LsqUKYN06dKpdkKFCxdW95eJytmztnkHcyIiIltgYGJIm2BI7kdWp04dVS0WGBioGlHLDe+IiIiIdDPOUNWqYbcB2Lt3r+pNxmCIiIjo4zNoXQAroPmgi7NmzdK6CERERPpl0LoA2tN8nCEiIiIiXWeGiIiISDsGpoaYGSIiIiLrMWHCBGTNmhUJEyaEn58f9uzZE+2ycpP3UqVKwdXVVU0VK1aMcfnoMBgiIiLSMYMV3bV+yZIl6NatGwYMGIB9+/bBx8cHVapUwc2bN6NcfvPmzWjYsCH+/PNP7Ny5E5kyZULlypVx5cqVuO0Do9FohJ15+lLrEhCR3rn6d9W6CFbt9o5RWhfBqiV2+XhVVwcuPojX9RfIHPve4pIJKlKkCMaPH68ey6DMEuDI7bl69+79zte/evVKZYjk9c2aNYv1+zIzREREpGOGeJ6ePXuG+/fvW0wyL6Lnz5+r4XakqstE7mEqjyXrExtyj9MXL14gVapUcdoHDIaIiIgo3gQHByNFihQWk8yLKCQkRGV20qRJYzFfHl+/fj1W79WrVy+kT5/eIqCKDfYmIyIi0jND/K6+T58+qh1QeAkSJPjg7/Pdd99h8eLFqh2RNL6OCwZDREREOmaI52hIAp/YBD/u7u7qPqU3btywmC+P06ZNG+NrR44cqYKhDRs2wNvbO85lZDUZERERac7FxQWFChXCxo0bzfOkAbU8LlasWLSvGzFiBL799lusWbNG3fj9fTAzREREpGMGKxpzUarTAgICVFBTtGhRjB49Go8ePUKLFi3U89JDLEOGDOY2R8OHD0dQUBAWLlyoxiYytS1KmjSpmmKLwRARERFZhQYNGuDWrVsqwJHApkCBAirjY2pUffHiRdXDzGTSpEmqF1q9evUs1iPjFA0cODDW78txhoiI4gHHGYoZxxmynnGGjlx+GK/rz58x9hkarbDNEBEREekaq8mIiIj0zKB1AbTHzBARERHpGjNDREREOmZgaoiZISIiItI3ZoaIiIh0zMDEEIMhIiIiPTNoXQArwGoyIiIi0jVmhoiIiPTMoHUBtMcRqImI4oH9XVk/rFR+gVoXwao92Tf2o73X8WuP4nX9edIlgbVjZoiIiEjHDEwNsc0QERER6RszQ0RERDpmYGKImSEiIiLSN2aGiIiIdMygdQGsAIMhIiIiPTNoXQDtsZqMiIiIdI2ZISIiIh0zMDXEzBARERHpGzNDREREOmZgYoiZISIiItI3ZoaIiIh0zKB1AayAVWWGnj59qnURiIiISGc0D4Zev36Nb7/9FhkyZEDSpElx9uxZNb9///6YMWOG1sUjIiKy/9SQIR4nG6B5MDRkyBDMnj0bI0aMgIuLi3l+/vz5MX36dE3LRkREpIeu9YZ4/M8WaB4MzZ07F1OnTkXjxo3h6Ohonu/j44MTJ05oWjYiIiKyf5o3oL5y5Qpy5swZZfXZixcvNCkTERGRXhhsI3lj35mhvHnz4q+//oo0f+nSpfD19dWkTERERKQfmmeGgoKCEBAQoDJEkg1atmwZTp48qarPfv/9d62LR0REZNcMWhfACmieGapZsyZ+++03bNiwAUmSJFHB0fHjx9W8SpUqaV08IiIisnOaZ4ZEqVKlsH79eq2LQUREpD8GrQugPc0zQ5cuXcLly5fNj/fs2YMuXbqoHmZEREREdh8MNWrUCH/++af6+/r166hYsaIKiPr27YvBgwdrXTwiIiK7ZuA4Q9oHQ0eOHEHRokXV3z/99BO8vLywY8cOLFiwQA3GSERERPHbtd4Qj5Mt0DwYkrGEEiRIoP6WRtSff/65+jt37ty4du2axqUjIiIie6d5MJQvXz5MnjxZjTUkjairVq2q5l+9ehVubm5aF4+IiMiuGXhrMu2DoeHDh2PKlCkoW7YsGjZsqG7DIVauXGmuPiMiIiKy2671EgSFhITg/v37cHV1Nc9v27YtEidOrGnZiIiI7J3BVtI39hwMCblBa/hASGTNmlWz8hAREZF+aBIMFSxYEBs3blQBkNx/zBBDWLpv376PWjYiIiJ9MUDvnLS6BYepB1mtWrW0KAIRERGRdsHQgAED1L+vXr1CuXLl4O3tjZQpU2pRFCIiIl0zMDGkbW8yaStUuXJlhIaGwl4tXrgA1SqVRxFfLzT+3xc4fOgQ9L6N69b+gZqfVVXL161VA39t3WLxvNFoxIRxY1ChTEkULeiNtq2a48KF8xbLTJsyCc0a/w9+hXxQ0r8w7JkejqH/wh73z+JFC1CtcnkULeiFJg2/wOHD7z6natWoqpavVzvqc2ri+DGoWLYk/Ap5o13ryOeU2Lpls3o/WaZU8SLoEtjB4vkC+T0jTWtWr4I1ale/FE78PgChO3/A1jndUDhf5miXdXJyQJ82VXH01yC1/O7FvVCpeB6LZZImToDve9TByVUDcWfHSPw5qysK5Y1+nbbEwK712netz58/P86ePQt7tOaP1Rg5IhjtOnTE4p+Xw9MzN9q3a4Xbt29Dr9t4YP8+9O7ZHbXr1MOSpStQrnwFdPmqI06d+te8zKwZ07BowTz0GzAQ8xf9hESJEqF921Z49uyZxWCdlSpXxRcNGsKe6eEY+i/scf+s/WM1fpBtat8Ri35ejk88c6NDu1a4E8M51efr7qhVux4W/xx2TnUN7IjT4c6p2TOnYeGCeegbNBDzFoadU7LO8OfUhvVr0a/P16hZqw5++uVXzJ63CNWqfxbp/QYNCcaGzdvMU7kKFWFt6lX2xfButTF06hoUa/Q9Dp26gpUTOiC1a9Iolx/Y4TO0rlsc3UYshW+9YZi+dDuWjGwFH8+M5mUmBTVEeT9PtOw/D4UbfIcNu05g1aSOSJ86xUfcMrLbYGjIkCHo0aMHfv/9dzXitHSxDz/ZsnlzZqFOvfqoVbsucuTMiX4DBiFhwoRYsewX2Iu4buOC+XNRvGQpNG/ZGtlz5ECnwC7IkzcvFi+cb/4Fu2DeXLRp1x7lyldUXwRDgkfg1s2b2LRxg3k9HToFomlAc+TK9QnsmR6Oof/CHvfPvLnhtilHTvQLerNNy6PepoVyTpV4e051/Cqac6rt23Pq22Fh59Sfb86ply9fYsR3Q9G1e0/1AyNL1mzqvatUrR7p/ZIlSw5399TmydT+05oENi6HWct3YN7K3Thx7jq+GvoTnjx9joCa/lEu3+jTIhgxcz3Wbj+G81duY9rSbervzk3LqecTJnBGrfI+6DvmV2zfdwZnL4Vg6JQ/cOZyCNp8URK2zsDbcWgfDFWvXh0HDx5Ut+HImDGj6mEmk7Qhitjd3pa8eP4cx48dhX+x4uZ5Dg4O8PcvjkMH98MevM82HjpwAP7+xSzmFS9RUs0XVy5fRkjILfj5v11nsmTJ4OXtYzf7Lbb0cAz9F/a4f168CNum8Me/bJNfTOfUwQPwK2Z5ThUrXlLNtzinikU+pw6+Wefx48dw88YNGBwc0KBeLVWd1vHL1hbZJZPgoYNQtqQfGv+vHlYsW6qCLWvi7OQI3zyZsGn3SfM8KaM8LuqdLcrXuDg74emzFxbznjx7geIFsqu/nRwd4OTkiKfPX1os8/Tpc/MyZNs0H2fIdMf69yVp3vCpXmF0TKD5r5XQu6GqgXjEW4rI43Pn7KNa8H22UQbYdHNzj7R8yO2QN8/fCpvnHnmd8lo90cMx9F/Y4/6R9pPRbdP5uJxT7m/PF/M5FWGdqdzccPvNMlcuXVL/Tpk4Ht2/7o306TNg7pxZaN2iKX5dtRYpUqQ0Z2SLFPVX1Ww7d2zDsCGD8PjxYzRq0gzWwj1lEhW43LzzwGK+PPbMmibK12zYeRyBTcphm2R9LoegXNFPULOcDxwdw/IFDx8/w66D59CndRWcPHsdN+48QP2qheDnnQ1nLoXtX1tmsJmWPXYcDJUpU+Y/vT44OBiDBg2ymNe3/wD0Cxr4H0tGRKQPr42v1b+t2n6JipWqqL8HDwlGlQqlsX7tGtSr/z81r+2XHc2vyZ0nL548eYI5s2ZYVTD0Pnp8vwwT+/8PB5f1VVkkCYjm/rYbAZ/7mZeRtkJTBjTC2XVD8PLlKxw4cRk/rd2rslBk+zQPhky/hmbMmIHjx4+rx3nz5kWLFi2QKlWqd762T58+6NatW6TMkNZcU7qq3nIRG3LKY3d3y19xtup9tlHm336TBbJY/s0vW2mDoOaF3Ebq1B4Wy3jmzg090cMx9F/Y4/6RpgEf5JwKebu8+Zy6bXlOSYNsaT8kUqcOWyZHjhzm511cXJAhYybVljM6+b18MHXyRDx//lwtbw1C7j5SwYpHqmQW8+Xx9dsPonnNQ9TvPh0JXJzgliIJrt66hyGBn+Pclbefw7nLIajcZiwSJ3RB8qQJcT3kPuZ91xznLttuY30zg9YF0J7mbYa2bt2qbr0xduxYFRTJJH9ny5ZNPfcuUh2WPHlyi0nrKjLh7OKCPHnzYfeuneZ5r1+/xu7dO+Ht4wt78D7b6F2gAHbv2mUxb9fOHWq+yJAxo7p4yzpMHj58iMOHDtrNfostPRxD/4U97h9n57Bt2rPbcpv2xHRO+RTAnqjOKR/Lc2rPrsjnlM+bdebJm18FM+fPnbPosXn1yhWkS58+2vKePHEcyZOnsJpASLx4+Qr7j19SVV0mcpeDckU9sefQ2+2LyrPnL1UgJF3ta1Xwwe9bDkda5vHT5yoQSpksESoWyx3lMmR7NM8MdezYEQ0aNMCkSZPULyIhdeYdOnRQzx0+bLsHWtOAFuj/TS/ky5cf+b28MX/eHJVWrlW7DuzFu7axb5+v4eGRBp27dlePGzdphlbNm2LO7JkoXbqM6hp99MgR9B842HzRaty0mRpHKEvmLOpCLmMOpfbwQPlwXXivXb2Ke/fu4dq1q+p4OfEmq5g5c2YkTpIE9kIPx9B/YY/7p2mzFujftxfyyjbl98aC+WHbJF3eRb8351Tgm3NKqqikbc/c2TNR6s05dezoEQRFPKemTkLmLFmQIUNGTBgfdk6ZusUnTZpUVYVNmjgOadKmQ/r06VX1l6hcuar6d8vmTSrj5O3jA5cECbBrx3bMmD4FzQJawtqMXfAnpg1qgr3HLuGfoxfQqVFZJE7kgrkrd6vnpw9ugqs37yFo/G/qcZH8WZDeIwUOnryCDB4p0LddNTgYDBg1e6N5nRL4yL789/wN5MiUGsO61MS/529i7krLQNQWGbQugBXQPBg6ffo0li5dag6EhPwtVV9z586FLatarTpC79zBxPFjVSNGz9x5MHHKdLjZaAr/fbbx+rVrcDC8TUAW8C2I4BEjMX7saIwbPQqZs2TF6HETLLrIt2jVRl38Bw8MwoMH9+FbsJBaZ/iMn7zfyl+Xmx9LDxgxfdZcFCn6tp7f1unhGPov7HH/VJFtCr2DSeG3afLbbZJqK+n1Ff6cGjZ8JCaMG41xY8LOqR/HTkDOcOdU85Zh59S34c+pyZbnVNfuX8PJ0UkFW8+ePQ2rAps5B8lThI2j4+TkhCWLF2DkiGGQDmSZMmdGj5691TAA1mbpuv1wd02KoPbVkcYtOQ6dvIyanSaZG1VnSuuK16/f9oJL4OKMAR0+Q7YMbqqxtHSrb9VvHu49fGJeJkXSRBjcqQYypEmJO/ce4ddNBzFgwu94+TKsvZUtMzAagsGocb/IEiVKoGfPnpHuUbZixQp899132BUh/RsbTy17PxIRfXRW1uPc6qTyC9S6CFbtyb6xH+29bj6wHFbgQ/NI5gxrp3lmKDAwEJ07d1YZIn//sAGxJACaMGGCCoYOhRtaX+5hRkRERB+OgRVl2meGZECxmEgdrRRR/pW2IbHBzBARaY2ZoZgxM2Q9maFbD+L3SzN1Ms3zLu+keQnPheu9QERERB+ZQesC6DwYkq6bMmBi//79VVd6IiIiIl2NM+Ts7IxffrHdGyoSERHZQ2LIEI+TLdB80EXpRSY9x4iIiIh02WYoV65cGDx4MLZv345ChQohSYQB86S3GREREcUPg62kb+y5N1lMbYWkB9nZs3G/+zR7kxGR1tibLGbsTWY9vcnuPIpdT+33lSrJ20GVrZXmmSH2JiMiIiJdB0NERESkHQOrybQPhlq2jPkmfzNnzvxoZSEiIiL90TwYCg0NjTT20JEjR3D37l2UL19es3IRERGRPmgeDC1f/vbO4yavX79G+/btkSNHDk3KRERERPqh+ThD0d2vrFu3bvjxxx+1LgoREZHdtxkyxONkC6wyGBJnzpzBy5fsI09ERER2Xk0mGaDwZNija9euYdWqVQgICNCsXERERHpgsJmbZthxMLR///5IVWSpU6fGDz/88M6eZkRERPTfGBgLaR8MSQZIskGm23CcP39e3assS5YscHLSvHhERERk56ziRq3z5s1Tf0t3en9/f5UVkvmTJk3SunhERER2zcC71msfDO3btw+lSpVSfy9duhRp0qTBhQsXMHfuXIwd+/HuzUJERET6pHk91OPHj5EsWTL197p161CnTh3VbkgyRBIUERERUTwyaF0A7WmeGcqZM6dqI3Tp0iWsXbsWlStXVvNv3ryJ5MmTa108IiIisnOaB0NBQUHo0aMHsmbNCj8/PxQrVsycJfL19dW6eERERHbftd4Qj//ZAoNRunJp7Pr162psIR8fH1VFJvbs2aMyQ7lz547z+p5yrEYi0pj2V1brlsovUOsiWLUn+z5em9mHz+L3YE2awPoDIs3bDIm0adOqKbyiRYtqVh4iIiK9MFh/rGL/1WRERERE0HtmiIiIiLRh0LoAVoDBEBERkZ4ZtC6A9lhNRkRERLrGYIiIiEjHDFbWtX7ChAlquJ2ECROqIXekd3lMfv75Z9XzXJb38vLC6tWr4/yeDIaIiIjIKixZsgTdunXDgAED1O26ZMidKlWqqIGYo7Jjxw40bNgQrVq1wv79+9V9TWU6cuSI7Y0z9KFxnCEi0pr9XVk/LI4zZD3jDD2N5+/MhHFonSyZoCJFimD8+PHq8evXr5EpUyZ89dVX6N27d6TlGzRogEePHuH33383z5PbeRUoUACTJ0+O9fsyM0RERETx5tmzZ7h//77FJPMiev78Ofbu3YuKFSua58lAzPJ4586dUa5b5odfXkgmKbrlddWbLC5RaHyTDzw4OBh9+vRBggQJtC6OVeI+ihn3T8y4f2xzH33MzIct7p+PKb6/MwcOCcagQYMs5kk12MCBAy3mhYSE4NWrV0iTJo3FfHl84sSJaO9gEdXyMj8umBn6CCeZHARRRcEUhvsoZtw/MeP+eTfuo5hx/8QvCTLv3btnMck8a2JFORQiIiKyNwkSJIhVxs3d3R2Ojo64ceOGxXx5HPGWXSYyPy7LR4eZISIiItKci4sLChUqhI0bN5rnSQNqeVysWLEoXyPzwy8v1q9fH+3y0WFmiIiIiKyCdKsPCAhA4cKF1Q3bR48erXqLtWjRQj3frFkzZMiQQbXxEp07d0aZMmXwww8/4NNPP8XixYvxzz//YOrUqXF6XwZD8UxSg9JQTI+N8mKL+yhm3D8x4/55N+6jmHH/WA/pKn/r1i0EBQWpRtDSRX7NmjXmRtIXL15UPcxMihcvjoULF6Jfv3745ptvkCtXLqxYsQL58+eP0/va5ThDRERERLHFNkNERESkawyGiIiISNcYDBEREZGuMRj6gAwGg2q4RZaaN2+ubpxHYcqWLYsuXbpoXQyyYdLUs23btkiVKpW67hw4cEDrIumCjJgsDXrJ/rA3GcW7MWPGqIs3EX0Y0rtm9uzZ2Lx5M7Jnz64Gq6P416NHD3XDULI/DIYo3qVIkULrIhDFyYsXL+Ds7AxrdebMGaRLl051K44vctNMGQTPnrzvNsmPOblnVtKkSdVE9kfX1WRLly6Fl5cXEiVKBDc3N3XnWxnc6e+//0alSpXUry35IpcBnfbt22fx2lOnTqF06dJImDAh8ubNq0a8DO/8+fMqfb1s2TKUK1cOiRMnho+PT6Q76W7btg2lSpVSZciUKRMCAwNVGUwmTpyoxk2Q95FxFurVq/fO8ltzNZnc+0e20cPDQ21TyZIl1f42XXBy5syJkSNHWrxeqgBkX54+fRr2JjQ0VA0i5urqqo6RatWqqWNLyJ2d5bP9448/LF6zfPlyJEuWDI8fP1aPL126hPr16yNlypSq2qRmzZrq+LOVDIccA1J2OYY/++wz9UUfl3No2rRp6tyR52vXro1Ro0ap9YX366+/omDBguqYk0yK3Ifq5cuX5uflfSZNmoTPP/8cSZIkwdChQ2Gt5HyS7ISMtyLlzpo1qxqlVwahy5YtmzpmZD/J9cFEvshbtWplft7T01NlbKM6T2Xb06dPr5axBtFd56Kqbpbyy3aYyL759ttv1TmWPHlyVbVoOq5kcD4JJuWYkDFptmzZYn6dZNxkGTn3ZERkGX9IrtURq8lkORkYUI4ZOeZKlCiBCxcuxPq4Iyti1KmrV68anZycjKNGjTKeO3fOeOjQIeOECROMDx48MG7cuNE4b9484/Hjx43Hjh0ztmrVypgmTRrj/fv31WtfvXplzJ8/v7FChQrGAwcOGLds2WL09fWVeiDj8uXL1TKyTnmcO3du4++//248efKksV69esYsWbIYX7x4oZY5ffq0MUmSJMYff/zR+O+//xq3b9+u1tO8eXP1/N9//210dHQ0Lly40Hj+/Hnjvn37jGPGjHln+a1NQECAsWbNmurvwMBAY/r06Y2rV682Hj16VD3n6upqvH37tnp+6NChxrx581q8Xl5TunRpo70oU6aMsXPnzurvzz//3JgnTx7j1q1b1bFUpUoVY86cOY3Pnz9Xz8sx06RJE4vX161b1zxPlpPXt2zZUh0Dcrw2atTI6OnpaXz27JnR2i1dutT4yy+/GE+dOmXcv3+/sUaNGkYvLy91jsXmHNq2bZvRwcHB+P3336vn5RxIlSqVMUWKFOb3kH2bPHly4+zZs41nzpwxrlu3zpg1a1bjwIEDzcvI+3h4eBhnzpyplrlw4YLRWt29e9c4ePBgY8aMGY3Xrl0z3rx50zhkyBC1n9asWaPKP2vWLGOCBAmMmzdvNh8nQUFB6ppy9uxZ4/z5842JEyc2LlmyxLxeOReTJk1qbNq0qfHIkSNq0lpM17nw55GJXGdkO0zkWJHPfuTIkep6K5PpuJL9J8efnDOtW7c2JkuWzBgSEqJe9+eff6plvL291fEir5Nr1IABA4w+Pj5qGTkG5Tjr0aOHel7WI8eY6diJzXFH1kO3wdDevXvVwS5BxrvIhVlOlN9++009Xrt2rTpBr1y5Yl7mjz/+iDIYmj59unkZ+fKXeRJkCQmy2rZta/Fef/31l7q4P3nyRH1JyMlkCsLet/zWEgw9fPjQ6OzsbFywYIH5OblIS3A0YsQI9Vj2qQSAu3fvNj/v7u6uLij2wnQRlwBYPkMJgk3kYpwoUSLjTz/9pB7L8SRfUI8ePVKP7927Z0yYMKE63oQE7RL4vH792rwOCYJkHXKc2ppbt26pfXL48OFYnUMNGjQwfvrppxbraNy4sUUwJD9ahg0bZrGM7Ld06dKZH8s6u3TpYrQV8gNKvujF06dPVWCzY8cOi2Xk+tKwYcNo19GxY0cVWIc/T+VHnzUF0TFd52IbDNWqVctiGdNx9d1335nnSWAjwdHw4cMtgqEVK1ZYvDZ8MCTBkSxjCjgjis1xR9ZDt9VkkkauUKGCSr9+8cUXKtUuVRamO962adNGVU9JNZmkVx8+fKjS0uL48eMqLS+pZJPobgrn7e1t/lvq+MXNmzfVvwcPHlSNIE310DJVqVJFpbzPnTunquqyZMmi0qtNmzbFggULzFUjMZXfWkn1h7TFkFSyibTLkDSz7FMh+1TuLzNz5kz1+LffflNVa7KN9ka22cnJCX5+fuZ5Ug0g1ROm/VG9enW1j1auXKke//LLL+p4lKoC0zEk1YdSbWY6hqSq7OnTp+bqJmsmVYINGzZUx7hsl1RrCNO59q5z6OTJk+r4CS/iY9lHgwcPtjjP5Py+du2a+XwSci8kWySfv2yHXC/Cb+PcuXMtjoEJEyaoKp/UqVOr5+XeTeH3s5DriTW1E/oQ17noPtfw12w5D2U503n3rtcKOc+kSk6u2TVq1FDVjnJMxfW4I+ug22DI0dFRtfOROmFp8zNu3Dj1JSRBiNwkTtqpyMG9Y8cO9bd8SUnju7gK3whT6qCFBDtCAqx27dqp9ZsmOYHkCyJHjhzqC07aKi1atEh9Cci9WuTicPfu3RjLb+tat26t6vOfPHmCWbNmqXvVSHsQPZIvJmknJvfeEfKv7A+5eJuOIfmCC38MyfTvv/+iUaNGsHbyJXLnzh31Jbd79241ifDnWkznUGzIPpK2GuH3z+HDh9V5Jm05TKTdhy2S7ROrVq2y2MZjx46Z2w3J+SQ9oaTd0Lp169TzcuPLiNc0a9sHMV3n5P5UEXupyo+tiP7LNr3rtXJ9kjZs0vZoyZIl+OSTT7Br1644HXdkHXTdm0wurJKlkEkCDcnCSOPU7du3q4bL8qvc1EA1JCTE/Lo8efKoeRLhm36pmk6AuJCGdXLBkkbD0ZEvPckCyCQ3EpRGeps2bUKdOnWiLb/c9dcaSYAnX+6yf6WspouXNKAO3xBS9rtchKRBqzSw3bp1K+yRHEfSmFICAFOvoNu3b6tsh1z4TRo3bqx+9R89elR99kOGDLE4huQiLA3SJbNiS0zbKoGQdCIQ0kg1LuSL0dQA3yTiY9lH8j4xnWe2TI4VaeArWR7p7BEVOefkGOvQoYN5ni1kDkV01znJcIXPxEgj8SNHjqjG9rEh12zpBCPkPNy7dy86deoU5/L5+vqqqU+fPirbJD9Y/P397f64sze6DYbkC2jjxo2oXLmy+iKRx3KnXPmCkuqxefPmqRSp9Ojp2bOn6slgIoGJ/AKQDNL333+vlunbt2+cy9CrVy910sgJKNkQCQAkOJJfQuPHj8fvv/+Os2fPqhNWehutXr1a/SKWL4CYym+tZPvat2+v9qekmDNnzowRI0aolLH8Yg3/a1DSz3Jxkc8iuipIWyfbJj2/JHU+ZcoUlQns3bs3MmTIoOabyOefNm1aFRRJb6Dw1WoyT45BWV5S8hkzZlS9WaQH1tdff60eWys5piXjKtU18qNCvsxl++NCelXJ/pEeZJJlkmBRsgimDJKQL1DppSbHm2TZJKMgGVj54gwfWNoqOW4k69O1a1d1fZDeeffu3VMBkATIcp2SY02qzdauXauOIbm+SdAof1uzmK5zcj2RH36SEZMfWnIMSNY8tqTaUPaLrOvHH39U1W8tW7aM9eslOyXHrvRAlOp9CXwk6yM91/Rw3Nkdo05Jy3/puZM6dWrV6+KTTz4xjhs3Tj0nvbYKFy6sGqrmypXL+PPPP6uGeNJo0UR6rpQsWdLo4uKiXiu9OKJqQC09ZExCQ0PVPGmcZ7Jnzx5jpUqVVCNZ6VkmvRekR5WpMbU0EpTeVtIgVp4z9f6IqfzW3JtMGoZ/9dVXqlG0lLtEiRJqH0QkvS9kX5kaVtuT8A0/79y5o3rvSINf+YzlM5WG1RF9/fXXan9Ij6CIpEdRs2bNzPs0e/bsxjZt2qjG1tZu/fr1qjeclFuOb2mMajqPYnsOTZ061ZghQwa1/6SxrPSsSps2rcX7yPlZvHhxtYx0SihatKh6nUn4c9fWGlALaUA/evRo1ZheOinIdUGOJenpampkLb1U5ThLmTKlsX379sbevXubGwNHPE+tRUzXOelcIdshvQelJ2BwcHCUDajDX7eF6biSXrpyHMg1XHqwbtq0ybyMqQG1HG/RNaC+fv26Ot6kQbSsQ95Lzk/pcBPb446sh0H+p3VARvZNGshKtmf+/Pmxfs1ff/2lGk5KdaSMr0QUW5JpO3HihDqGiCKScYYkI7Z//37eWoPMdNuAmuKf1MNLtZ80MMyXL1+sXiM9xy5fvqwGN5PeIwyE6F1kkE5TrzppYDtnzhxVNUREFFsMhijeSN24tLuSQOjLL7+M1Wuk55w0kJS6f2lPRPQue/bsUQ3Mpfv15MmTMXbsWNUGj4gotlhNRkRERLrGzBARERHpGoMhIiIi0jUGQ0RERKRrDIaIiIhI1xgMERERka4xGCKiGMmtUWrVqmV+XLZsWYt7yX0smzdvVrfZiMstF4iIYoPBEJENBykSHMgkN8CVG0LK/clksMv4JPc9+/bbb2O1LAMYIrIFur1RK5E9qFq1KmbNmqVG7pYb+Xbs2BHOzs7qJrfhPX/+XAVMH4LcZJeIyJ4wM0RkwxIkSKDuaC+jdrdv3x4VK1bEypUrzVVbQ4cOVXfU9vT0VMvLvd7q16+PlClTqqBG7nYv92oyefXqlboTuDwvd5SXO99HHJc1YjWZBGK9evVCpkyZVHkkQzVjxgy13nLlypnvUC8ZIimXkLurBwcHq3tEJUqUCD4+Pli6dKnF+0hw98knn6jnZT3hy0lE9CExGCKyIxI4SBZIbNy4ESdPnsT69evx+++/48WLF6hSpQqSJUumbmK6fft2JE2aVGWXTK/54YcfMHv2bMycORPbtm3DnTt3sHz58hjfs1mzZuo2KnIbjOPHj2PKlClqvRIc/fLLL2oZKce1a9cwZswY9VgCoblz56rbZxw9ehRdu3ZFkyZNsGXLFnPQVqdOHdSoUQMHDhxQt9fo3bt3PO89ItKt/37jeyLSQkBAgLFmzZrq79evXxvXr19vTJAggbFHjx7quTRp0hifPXtmXn7evHlGT09PtayJPJ8oUSLj2rVr1eN06dIZR4wYYX7+xYsXxowZM5rfR5QpU8bYuXNn9ffJkyclbaTeOyp//vmnej40NNQ87+nTp8bEiRMbd+zYYbFsq1atjA0bNlR/9+nTx5g3b16L53v16hVpXUREHwLbDBHZMMn4SBZGsj5S9dSoUSMMHDhQtR2SG5eGbydkurO7ZIbCe/r0Kc6cOYN79+6p7I2fn5/5OScnJ3Wz3ehuYShZG0dHR5QpUybWZZYyPH78WN1cNTzJTvn6+qq/JcMUvhyiWLFisX4PIqK4YDBEZMOkLc2kSZNU0CNtgyR4MUmSJInFsg8fPkShQoWwYMGCSOtJnTr1e1fLxZWUQ6xatQoZMmSweE7aHBERfWwMhohsmAQ80mA5NgoWLIglS5bAw8MDyZMnj3KZdOnSYffu3ShdurR6LN309+7dq14bFck+SUZK2vpI4+2ITJkpaZhtkjdvXhX0XLx4MdqMUp48eVRD8PB27doVq+0kIoorNqAm0onGjRvD3d1d9SCTBtTnzp1T4wAFBgbi8uXLapnOnTvju+++w4oVK3DixAl06NAhxjGCsmbNioCAALRs2VK9xrTOn376ST0vvdykF5lU5926dUtlhaSarkePHqrR9Jw5c1QV3b59+zBu3Dj1WHz55Zc4deoUevbsqRpfL1y4UDXsJiKKDwyGiHQiceLE2Lp1KzJnzqx6akn2pVWrVqrNkClT1L17dzRt2lQFONJGRwKX2rVrx7heqaarV6+eCpxy586NNm3a4NGjR+o5qQYbNGiQ6gmWJk0adOrUSc2XQRv79++vepVJOaRHm1SbSVd7IWWUnmgSYEm3e+l1NmzYsHjfR0SkTwZpRa11IYiIiIi0wswQERER6RqDISIiItI1BkNERESkawyGiIiISNcYDBEREZGuMRgiIiIiXWMwRERERLrGYIiIiIh0jcEQERER6RqDISIiItI1BkNEREQEPfs/2QldORXGZ5IAAAAASUVORK5CYII=",
      "text/plain": [
       "<Figure size 700x600 with 2 Axes>"
      ]
     },
     "metadata": {},
     "output_type": "display_data"
    },
    {
     "data": {
      "image/png": "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",
      "text/plain": [
       "<Figure size 700x600 with 2 Axes>"
      ]
     },
     "metadata": {},
     "output_type": "display_data"
    },
    {
     "data": {
      "image/png": "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",
      "text/plain": [
       "<Figure size 700x600 with 2 Axes>"
      ]
     },
     "metadata": {},
     "output_type": "display_data"
    }
   ],
   "source": [
    "plot_cm(emotion_labels, emotion_pred, 'Confusion Matrix for Emotion', emotion_labels_text)\n",
    "plot_cm(violence_labels, violence_pred, 'Confusion Matrix for Violence', violence_labels_text)\n",
    "plot_cm(hate_labels, hate_pred, 'Confusion Matrix for Hate', hate_labels_text)"
   ]
  },
  {
   "cell_type": "markdown",
   "metadata": {},
   "source": [
    "8. Manual Testing"
   ]
  },
  {
   "cell_type": "code",
   "execution_count": 70,
   "metadata": {},
   "outputs": [],
   "source": [
    "def classify_text(input_text) :\n",
    "    input_text_cleaned=remove_stopwords(input_text)\n",
    "    input_sequence=tokenizer.texts_to_sequences([input_text_cleaned])\n",
    "    input_padded=pad_sequences(input_sequence,maxlen=max_length,padding='post')\n",
    "\n",
    "    prediction = model.predict({ 'emotion_input' : input_padded,\n",
    "                                 'violence_input' : input_padded,\n",
    "                                  'hate_input' : input_padded})\n",
    "    \n",
    "    emotion_pred = np.argmax(prediction[0], axis = 1)[0]\n",
    "    violence_pred = np.argmax(prediction[1], axis = 1)[0]\n",
    "    hate_pred = np.argmax(prediction[2], axis = 1)[0]\n",
    "\n",
    "    major_labels = ['Emotion', 'Violence', 'Hate']\n",
    "    major_label_index = np.argmax([np.max(prediction[0]),np.max(prediction[1]),np.max(prediction[2])])\n",
    "    major_label = major_labels[major_label_index]\n",
    "\n",
    "    emotion_labels_text = ['sadness','joy','love','anger','fear','surprise']\n",
    "    violence_labels_text = ['sexual_violence','physical_violence','emotional_violence','harmful_traditional_practices','economic_violence']\n",
    "    hate_labels_text=['offensive_speech','neither','hate_speech']\n",
    "\n",
    "    if major_label == 'Emotion' :\n",
    "        sub_label=emotion_labels_text[emotion_pred]\n",
    "    elif major_label == 'Violence' :\n",
    "        sub_label=violence_labels_text[violence_pred]\n",
    "    else :\n",
    "        sub_label=hate_labels_text[hate_pred]\n",
    "\n",
    "    return major_label, sub_label"
   ]
  },
  {
   "cell_type": "code",
   "execution_count": 72,
   "metadata": {},
   "outputs": [],
   "source": [
    "input_text_widget = widgets.Text (\n",
    "    description =\"Input text :\",\n",
    "    placeholder = 'Enter your text'\n",
    ")"
   ]
  },
  {
   "cell_type": "code",
   "execution_count": 73,
   "metadata": {},
   "outputs": [],
   "source": [
    "button = widgets.Button(description = 'classify')"
   ]
  },
  {
   "cell_type": "code",
   "execution_count": 74,
   "metadata": {},
   "outputs": [],
   "source": [
    "output = widgets.Output()"
   ]
  },
  {
   "cell_type": "code",
   "execution_count": 75,
   "metadata": {},
   "outputs": [],
   "source": [
    "def on_button_click(b) :\n",
    "    with output :\n",
    "        output.clear_output()\n",
    "        input_text = input_text_widget.value\n",
    "        major_label,sub_label=classify_text(input_text)\n",
    "        print(f\"Major Label : {major_label}\")\n",
    "        print(f\"Major Label : {sub_label}\")\n",
    "\n",
    "button.on_click(on_button_click)"
   ]
  },
  {
   "cell_type": "code",
   "execution_count": 76,
   "metadata": {},
   "outputs": [
    {
     "data": {
      "application/vnd.jupyter.widget-view+json": {
       "model_id": "e1a4e72758db4afbab262ae9a95be888",
       "version_major": 2,
       "version_minor": 0
      },
      "text/plain": [
       "Text(value='', description='Input text :', placeholder='Enter your text')"
      ]
     },
     "metadata": {},
     "output_type": "display_data"
    },
    {
     "data": {
      "application/vnd.jupyter.widget-view+json": {
       "model_id": "6c6f68c3c9f0451ca03e802ad329376b",
       "version_major": 2,
       "version_minor": 0
      },
      "text/plain": [
       "Button(description='classify', style=ButtonStyle())"
      ]
     },
     "metadata": {},
     "output_type": "display_data"
    },
    {
     "data": {
      "application/vnd.jupyter.widget-view+json": {
       "model_id": "fe079cbc39144b108b957d15dde60f5c",
       "version_major": 2,
       "version_minor": 0
      },
      "text/plain": [
       "Output()"
      ]
     },
     "metadata": {},
     "output_type": "display_data"
    }
   ],
   "source": [
    "display(input_text_widget, button, output)"
   ]
  }
 ],
 "metadata": {
  "kernelspec": {
   "display_name": "tensorflow_env",
   "language": "python",
   "name": "python3"
  },
  "language_info": {
   "codemirror_mode": {
    "name": "ipython",
    "version": 3
   },
   "file_extension": ".py",
   "mimetype": "text/x-python",
   "name": "python",
   "nbconvert_exporter": "python",
   "pygments_lexer": "ipython3",
   "version": "undefined.undefined.undefined"
  }
 },
 "nbformat": 4,
 "nbformat_minor": 2
}
